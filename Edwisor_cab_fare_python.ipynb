{
  "nbformat": 4,
  "nbformat_minor": 0,
  "metadata": {
    "colab": {
      "name": "Edwisor_cab_fare.ipynb",
      "provenance": [],
      "collapsed_sections": []
    },
    "kernelspec": {
      "name": "python3",
      "display_name": "Python 3"
    }
  },
  "cells": [
    {
      "cell_type": "code",
      "metadata": {
        "id": "hVrryDlLuZnf",
        "colab_type": "code",
        "outputId": "8cbac26a-9ce3-46ae-b760-1075960086e4",
        "colab": {
          "base_uri": "https://localhost:8080/",
          "height": 89
        }
      },
      "source": [
        "import pandas as pd\n",
        "import numpy as np\n",
        "import matplotlib.pyplot as plt\n",
        "import seaborn as sns\n",
        "import random\n",
        "from fancyimpute import KNN\n",
        "from sklearn.model_selection import train_test_split #used to split dataset into train and test\n",
        "from sklearn.metrics import mean_squared_error # used to calculate MSE\n",
        "from sklearn.metrics import r2_score # used to calculate r square\n",
        "from sklearn.linear_model import LinearRegression # For linear regression\n",
        "from sklearn.tree import DecisionTreeRegressor # For Decision Tree\n",
        "from sklearn.ensemble import RandomForestRegressor # For RandomForest\n",
        "from sklearn import metrics"
      ],
      "execution_count": 1,
      "outputs": [
        {
          "output_type": "stream",
          "text": [
            "/usr/local/lib/python3.6/dist-packages/sklearn/externals/six.py:31: DeprecationWarning: The module is deprecated in version 0.21 and will be removed in version 0.23 since we've dropped support for Python 2.7. Please rely on the official version of six (https://pypi.org/project/six/).\n",
            "  \"(https://pypi.org/project/six/).\", DeprecationWarning)\n",
            "Using TensorFlow backend.\n"
          ],
          "name": "stderr"
        }
      ]
    },
    {
      "cell_type": "code",
      "metadata": {
        "id": "B8u92fkruiI-",
        "colab_type": "code",
        "colab": {}
      },
      "source": [
        "train = pd.read_csv(\"https://raw.githubusercontent.com/iamyumang/hello-world/master/EDtrain_cab.csv\")\n",
        "test = pd.read_csv(\"https://raw.githubusercontent.com/iamyumang/hello-world/master/EDtest.csv\")"
      ],
      "execution_count": 0,
      "outputs": []
    },
    {
      "cell_type": "code",
      "metadata": {
        "id": "hlUtbJmI5NEi",
        "colab_type": "code",
        "outputId": "8d819975-0d99-4c30-e70f-4d04af6412c7",
        "colab": {
          "base_uri": "https://localhost:8080/",
          "height": 206
        }
      },
      "source": [
        "train.head(5)"
      ],
      "execution_count": 3,
      "outputs": [
        {
          "output_type": "execute_result",
          "data": {
            "text/html": [
              "<div>\n",
              "<style scoped>\n",
              "    .dataframe tbody tr th:only-of-type {\n",
              "        vertical-align: middle;\n",
              "    }\n",
              "\n",
              "    .dataframe tbody tr th {\n",
              "        vertical-align: top;\n",
              "    }\n",
              "\n",
              "    .dataframe thead th {\n",
              "        text-align: right;\n",
              "    }\n",
              "</style>\n",
              "<table border=\"1\" class=\"dataframe\">\n",
              "  <thead>\n",
              "    <tr style=\"text-align: right;\">\n",
              "      <th></th>\n",
              "      <th>fare_amount</th>\n",
              "      <th>pickup_datetime</th>\n",
              "      <th>pickup_longitude</th>\n",
              "      <th>pickup_latitude</th>\n",
              "      <th>dropoff_longitude</th>\n",
              "      <th>dropoff_latitude</th>\n",
              "      <th>passenger_count</th>\n",
              "    </tr>\n",
              "  </thead>\n",
              "  <tbody>\n",
              "    <tr>\n",
              "      <th>0</th>\n",
              "      <td>4.5</td>\n",
              "      <td>2009-06-15 17:26:21 UTC</td>\n",
              "      <td>-73.844311</td>\n",
              "      <td>40.721319</td>\n",
              "      <td>-73.841610</td>\n",
              "      <td>40.712278</td>\n",
              "      <td>1.0</td>\n",
              "    </tr>\n",
              "    <tr>\n",
              "      <th>1</th>\n",
              "      <td>16.9</td>\n",
              "      <td>2010-01-05 16:52:16 UTC</td>\n",
              "      <td>-74.016048</td>\n",
              "      <td>40.711303</td>\n",
              "      <td>-73.979268</td>\n",
              "      <td>40.782004</td>\n",
              "      <td>1.0</td>\n",
              "    </tr>\n",
              "    <tr>\n",
              "      <th>2</th>\n",
              "      <td>5.7</td>\n",
              "      <td>2011-08-18 00:35:00 UTC</td>\n",
              "      <td>-73.982738</td>\n",
              "      <td>40.761270</td>\n",
              "      <td>-73.991242</td>\n",
              "      <td>40.750562</td>\n",
              "      <td>2.0</td>\n",
              "    </tr>\n",
              "    <tr>\n",
              "      <th>3</th>\n",
              "      <td>7.7</td>\n",
              "      <td>2012-04-21 04:30:42 UTC</td>\n",
              "      <td>-73.987130</td>\n",
              "      <td>40.733143</td>\n",
              "      <td>-73.991567</td>\n",
              "      <td>40.758092</td>\n",
              "      <td>1.0</td>\n",
              "    </tr>\n",
              "    <tr>\n",
              "      <th>4</th>\n",
              "      <td>5.3</td>\n",
              "      <td>2010-03-09 07:51:00 UTC</td>\n",
              "      <td>-73.968095</td>\n",
              "      <td>40.768008</td>\n",
              "      <td>-73.956655</td>\n",
              "      <td>40.783762</td>\n",
              "      <td>1.0</td>\n",
              "    </tr>\n",
              "  </tbody>\n",
              "</table>\n",
              "</div>"
            ],
            "text/plain": [
              "  fare_amount          pickup_datetime  ...  dropoff_latitude  passenger_count\n",
              "0         4.5  2009-06-15 17:26:21 UTC  ...         40.712278              1.0\n",
              "1        16.9  2010-01-05 16:52:16 UTC  ...         40.782004              1.0\n",
              "2         5.7  2011-08-18 00:35:00 UTC  ...         40.750562              2.0\n",
              "3         7.7  2012-04-21 04:30:42 UTC  ...         40.758092              1.0\n",
              "4         5.3  2010-03-09 07:51:00 UTC  ...         40.783762              1.0\n",
              "\n",
              "[5 rows x 7 columns]"
            ]
          },
          "metadata": {
            "tags": []
          },
          "execution_count": 3
        }
      ]
    },
    {
      "cell_type": "code",
      "metadata": {
        "id": "b-5cxRrk2mG6",
        "colab_type": "code",
        "outputId": "ea4d96ee-2fdc-47f3-a217-f30856f46fa2",
        "colab": {
          "base_uri": "https://localhost:8080/",
          "height": 34
        }
      },
      "source": [
        "train.shape"
      ],
      "execution_count": 4,
      "outputs": [
        {
          "output_type": "execute_result",
          "data": {
            "text/plain": [
              "(16067, 7)"
            ]
          },
          "metadata": {
            "tags": []
          },
          "execution_count": 4
        }
      ]
    },
    {
      "cell_type": "code",
      "metadata": {
        "id": "a2MydO5JuxKt",
        "colab_type": "code",
        "outputId": "c91ca37f-9bcb-4b3f-f330-f37fd04b4467",
        "colab": {
          "base_uri": "https://localhost:8080/",
          "height": 156
        }
      },
      "source": [
        "train.isnull().sum()"
      ],
      "execution_count": 5,
      "outputs": [
        {
          "output_type": "execute_result",
          "data": {
            "text/plain": [
              "fare_amount          24\n",
              "pickup_datetime       0\n",
              "pickup_longitude      0\n",
              "pickup_latitude       0\n",
              "dropoff_longitude     0\n",
              "dropoff_latitude      0\n",
              "passenger_count      55\n",
              "dtype: int64"
            ]
          },
          "metadata": {
            "tags": []
          },
          "execution_count": 5
        }
      ]
    },
    {
      "cell_type": "markdown",
      "metadata": {
        "id": "5j66VLJK7jit",
        "colab_type": "text"
      },
      "source": [
        "# Handling Missing Values and Outliers"
      ]
    },
    {
      "cell_type": "code",
      "metadata": {
        "id": "eQbqQO5eQqdr",
        "colab_type": "code",
        "outputId": "47aef956-4672-4c4b-ddc0-c303e443bd32",
        "colab": {
          "base_uri": "https://localhost:8080/",
          "height": 269
        }
      },
      "source": [
        "#Create dataframe with missing percentage\n",
        "missing_val = pd.DataFrame(train.isnull().sum())\n",
        "#Reset index\n",
        "missing_val = missing_val.reset_index()\n",
        "missing_val\n",
        "\n"
      ],
      "execution_count": 6,
      "outputs": [
        {
          "output_type": "execute_result",
          "data": {
            "text/html": [
              "<div>\n",
              "<style scoped>\n",
              "    .dataframe tbody tr th:only-of-type {\n",
              "        vertical-align: middle;\n",
              "    }\n",
              "\n",
              "    .dataframe tbody tr th {\n",
              "        vertical-align: top;\n",
              "    }\n",
              "\n",
              "    .dataframe thead th {\n",
              "        text-align: right;\n",
              "    }\n",
              "</style>\n",
              "<table border=\"1\" class=\"dataframe\">\n",
              "  <thead>\n",
              "    <tr style=\"text-align: right;\">\n",
              "      <th></th>\n",
              "      <th>index</th>\n",
              "      <th>0</th>\n",
              "    </tr>\n",
              "  </thead>\n",
              "  <tbody>\n",
              "    <tr>\n",
              "      <th>0</th>\n",
              "      <td>fare_amount</td>\n",
              "      <td>24</td>\n",
              "    </tr>\n",
              "    <tr>\n",
              "      <th>1</th>\n",
              "      <td>pickup_datetime</td>\n",
              "      <td>0</td>\n",
              "    </tr>\n",
              "    <tr>\n",
              "      <th>2</th>\n",
              "      <td>pickup_longitude</td>\n",
              "      <td>0</td>\n",
              "    </tr>\n",
              "    <tr>\n",
              "      <th>3</th>\n",
              "      <td>pickup_latitude</td>\n",
              "      <td>0</td>\n",
              "    </tr>\n",
              "    <tr>\n",
              "      <th>4</th>\n",
              "      <td>dropoff_longitude</td>\n",
              "      <td>0</td>\n",
              "    </tr>\n",
              "    <tr>\n",
              "      <th>5</th>\n",
              "      <td>dropoff_latitude</td>\n",
              "      <td>0</td>\n",
              "    </tr>\n",
              "    <tr>\n",
              "      <th>6</th>\n",
              "      <td>passenger_count</td>\n",
              "      <td>55</td>\n",
              "    </tr>\n",
              "  </tbody>\n",
              "</table>\n",
              "</div>"
            ],
            "text/plain": [
              "               index   0\n",
              "0        fare_amount  24\n",
              "1    pickup_datetime   0\n",
              "2   pickup_longitude   0\n",
              "3    pickup_latitude   0\n",
              "4  dropoff_longitude   0\n",
              "5   dropoff_latitude   0\n",
              "6    passenger_count  55"
            ]
          },
          "metadata": {
            "tags": []
          },
          "execution_count": 6
        }
      ]
    },
    {
      "cell_type": "code",
      "metadata": {
        "id": "YbUm8SMpQ4Xs",
        "colab_type": "code",
        "outputId": "cd021d65-8ea8-466b-a957-fe67b08b1da2",
        "colab": {
          "base_uri": "https://localhost:8080/",
          "height": 269
        }
      },
      "source": [
        "missing_val = missing_val.rename(columns = {'index': 'Variables', 0: 'Missing_percentage'})\n",
        "missing_val\n",
        "\n",
        "missing_val['Missing_percentage'] = (missing_val['Missing_percentage']/len(train))*100   #Percentage\n",
        "\n",
        "missing_val = missing_val.sort_values('Missing_percentage', ascending = False).reset_index(drop = True) #descending order\n",
        "missing_val"
      ],
      "execution_count": 7,
      "outputs": [
        {
          "output_type": "execute_result",
          "data": {
            "text/html": [
              "<div>\n",
              "<style scoped>\n",
              "    .dataframe tbody tr th:only-of-type {\n",
              "        vertical-align: middle;\n",
              "    }\n",
              "\n",
              "    .dataframe tbody tr th {\n",
              "        vertical-align: top;\n",
              "    }\n",
              "\n",
              "    .dataframe thead th {\n",
              "        text-align: right;\n",
              "    }\n",
              "</style>\n",
              "<table border=\"1\" class=\"dataframe\">\n",
              "  <thead>\n",
              "    <tr style=\"text-align: right;\">\n",
              "      <th></th>\n",
              "      <th>Variables</th>\n",
              "      <th>Missing_percentage</th>\n",
              "    </tr>\n",
              "  </thead>\n",
              "  <tbody>\n",
              "    <tr>\n",
              "      <th>0</th>\n",
              "      <td>passenger_count</td>\n",
              "      <td>0.342317</td>\n",
              "    </tr>\n",
              "    <tr>\n",
              "      <th>1</th>\n",
              "      <td>fare_amount</td>\n",
              "      <td>0.149374</td>\n",
              "    </tr>\n",
              "    <tr>\n",
              "      <th>2</th>\n",
              "      <td>pickup_datetime</td>\n",
              "      <td>0.000000</td>\n",
              "    </tr>\n",
              "    <tr>\n",
              "      <th>3</th>\n",
              "      <td>pickup_longitude</td>\n",
              "      <td>0.000000</td>\n",
              "    </tr>\n",
              "    <tr>\n",
              "      <th>4</th>\n",
              "      <td>pickup_latitude</td>\n",
              "      <td>0.000000</td>\n",
              "    </tr>\n",
              "    <tr>\n",
              "      <th>5</th>\n",
              "      <td>dropoff_longitude</td>\n",
              "      <td>0.000000</td>\n",
              "    </tr>\n",
              "    <tr>\n",
              "      <th>6</th>\n",
              "      <td>dropoff_latitude</td>\n",
              "      <td>0.000000</td>\n",
              "    </tr>\n",
              "  </tbody>\n",
              "</table>\n",
              "</div>"
            ],
            "text/plain": [
              "           Variables  Missing_percentage\n",
              "0    passenger_count            0.342317\n",
              "1        fare_amount            0.149374\n",
              "2    pickup_datetime            0.000000\n",
              "3   pickup_longitude            0.000000\n",
              "4    pickup_latitude            0.000000\n",
              "5  dropoff_longitude            0.000000\n",
              "6   dropoff_latitude            0.000000"
            ]
          },
          "metadata": {
            "tags": []
          },
          "execution_count": 7
        }
      ]
    },
    {
      "cell_type": "code",
      "metadata": {
        "id": "ApYGBVLXBNQG",
        "colab_type": "code",
        "outputId": "9c70c783-06e5-4975-9b4f-4821ae8dc34b",
        "colab": {
          "base_uri": "https://localhost:8080/",
          "height": 34
        }
      },
      "source": [
        "train[\"passenger_count\"].isnull().sum()/len(train[\"passenger_count\"])*100 "
      ],
      "execution_count": 8,
      "outputs": [
        {
          "output_type": "execute_result",
          "data": {
            "text/plain": [
              "0.34231654944918155"
            ]
          },
          "metadata": {
            "tags": []
          },
          "execution_count": 8
        }
      ]
    },
    {
      "cell_type": "markdown",
      "metadata": {
        "id": "dUr_uPstB86S",
        "colab_type": "text"
      },
      "source": [
        "**passenger_count has 0.342% of missing values**"
      ]
    },
    {
      "cell_type": "code",
      "metadata": {
        "id": "7pSbJ7LICCiT",
        "colab_type": "code",
        "outputId": "9faed950-b4fc-4b7e-bf78-230f8ce90e70",
        "colab": {
          "base_uri": "https://localhost:8080/",
          "height": 503
        }
      },
      "source": [
        "train[\"passenger_count\"].value_counts() "
      ],
      "execution_count": 9,
      "outputs": [
        {
          "output_type": "execute_result",
          "data": {
            "text/plain": [
              "1.00       11259\n",
              "2.00        2322\n",
              "5.00        1045\n",
              "3.00         676\n",
              "4.00         329\n",
              "6.00         302\n",
              "0.00          57\n",
              "43.00          2\n",
              "53.00          2\n",
              "0.12           1\n",
              "1.30           1\n",
              "531.20         1\n",
              "345.00         1\n",
              "456.00         1\n",
              "87.00          1\n",
              "55.00          1\n",
              "58.00          1\n",
              "236.00         1\n",
              "535.00         1\n",
              "536.00         1\n",
              "537.00         1\n",
              "554.00         1\n",
              "5334.00        1\n",
              "35.00          1\n",
              "5345.00        1\n",
              "557.00         1\n",
              "354.00         1\n",
              "Name: passenger_count, dtype: int64"
            ]
          },
          "metadata": {
            "tags": []
          },
          "execution_count": 9
        }
      ]
    },
    {
      "cell_type": "code",
      "metadata": {
        "id": "cQYGFwtuSA5a",
        "colab_type": "code",
        "outputId": "7b940669-0b02-4a6b-c737-6f4d520ed169",
        "colab": {
          "base_uri": "https://localhost:8080/",
          "height": 34
        }
      },
      "source": [
        "train[\"passenger_count\"].isnull().sum()"
      ],
      "execution_count": 10,
      "outputs": [
        {
          "output_type": "execute_result",
          "data": {
            "text/plain": [
              "55"
            ]
          },
          "metadata": {
            "tags": []
          },
          "execution_count": 10
        }
      ]
    },
    {
      "cell_type": "markdown",
      "metadata": {
        "id": "sd_FP8W8Lb5y",
        "colab_type": "text"
      },
      "source": [
        "**Date Time Analysis**"
      ]
    },
    {
      "cell_type": "code",
      "metadata": {
        "id": "9BW6ePztxdm5",
        "colab_type": "code",
        "colab": {}
      },
      "source": [
        "#Handling Date-Time\n",
        "train[\"pickup_datetime\"] = pd.to_datetime(train['pickup_datetime'], errors='coerce')\n",
        "train = train.dropna(subset=['pickup_datetime'])\n",
        "\n",
        "#Now we'll split the pickup_date time variable into year, month, date. \n",
        "\n",
        "train['year'] =train['pickup_datetime'].dt.year\n",
        "train['month'] = train['pickup_datetime'].dt.month\n",
        "train['pickup_date'] = train['pickup_datetime'].dt.day\n",
        "train['pickup_hour'] = train['pickup_datetime'].dt.hour\n",
        "\n",
        "#Now Deleting \"pickup_datetime\"] column\n",
        "del train[\"pickup_datetime\"]"
      ],
      "execution_count": 0,
      "outputs": []
    },
    {
      "cell_type": "code",
      "metadata": {
        "id": "uf1kbmW9W13d",
        "colab_type": "code",
        "outputId": "4a58583e-faf3-463d-da90-71880194868f",
        "colab": {
          "base_uri": "https://localhost:8080/",
          "height": 173
        }
      },
      "source": [
        "train[\"year\"].describe()"
      ],
      "execution_count": 12,
      "outputs": [
        {
          "output_type": "execute_result",
          "data": {
            "text/plain": [
              "count    16066.000000\n",
              "mean      2011.730860\n",
              "std          1.864275\n",
              "min       2009.000000\n",
              "25%       2010.000000\n",
              "50%       2012.000000\n",
              "75%       2013.000000\n",
              "max       2015.000000\n",
              "Name: year, dtype: float64"
            ]
          },
          "metadata": {
            "tags": []
          },
          "execution_count": 12
        }
      ]
    },
    {
      "cell_type": "code",
      "metadata": {
        "id": "bebt7oykL-vI",
        "colab_type": "code",
        "outputId": "ed9220e4-9258-4478-d162-34035a989e38",
        "colab": {
          "base_uri": "https://localhost:8080/",
          "height": 34
        }
      },
      "source": [
        "train = train.drop(train[train['passenger_count']<1].index, axis=0) # drop the variable which have passenger_count < 1\n",
        "train.reset_index(drop=True, inplace=True)\n",
        "train.shape"
      ],
      "execution_count": 13,
      "outputs": [
        {
          "output_type": "execute_result",
          "data": {
            "text/plain": [
              "(16008, 10)"
            ]
          },
          "metadata": {
            "tags": []
          },
          "execution_count": 13
        }
      ]
    },
    {
      "cell_type": "markdown",
      "metadata": {
        "id": "H_FeAunsMzyh",
        "colab_type": "text"
      },
      "source": [
        "***In general we know that a cab contains not more than 6 passengers at a time but we can clearly see in the data that there are some cabs which hold the passengers in double, triple and even four digits in numbers so they should be treated as outliers hence we will remove them***"
      ]
    },
    {
      "cell_type": "code",
      "metadata": {
        "id": "M4utX-JUMy77",
        "colab_type": "code",
        "outputId": "840cf9b5-ee49-41db-abb5-8200508c8c6d",
        "colab": {
          "base_uri": "https://localhost:8080/",
          "height": 34
        }
      },
      "source": [
        "train = train.drop(train[train['passenger_count']> 6].index, axis=0)\n",
        "train = train.drop(train[train['passenger_count'] == 1.3].index, axis=0) # passenger_count should not be in fractional form\n",
        "train[\"passenger_count\"].isnull().sum()"
      ],
      "execution_count": 14,
      "outputs": [
        {
          "output_type": "execute_result",
          "data": {
            "text/plain": [
              "55"
            ]
          },
          "metadata": {
            "tags": []
          },
          "execution_count": 14
        }
      ]
    },
    {
      "cell_type": "code",
      "metadata": {
        "id": "_P6Q-lCIRqI2",
        "colab_type": "code",
        "outputId": "642fc9a6-2dac-49e8-fb11-b1a1bef4edb0",
        "colab": {
          "base_uri": "https://localhost:8080/",
          "height": 34
        }
      },
      "source": [
        "train[\"passenger_count\"].unique()"
      ],
      "execution_count": 15,
      "outputs": [
        {
          "output_type": "execute_result",
          "data": {
            "text/plain": [
              "array([ 1.,  2.,  3., nan,  6.,  5.,  4.])"
            ]
          },
          "metadata": {
            "tags": []
          },
          "execution_count": 15
        }
      ]
    },
    {
      "cell_type": "code",
      "metadata": {
        "id": "vBY7xSjJSHFP",
        "colab_type": "code",
        "outputId": "30807a25-0631-4385-9c47-543ff5514c28",
        "colab": {
          "base_uri": "https://localhost:8080/",
          "height": 34
        }
      },
      "source": [
        "train[\"passenger_count\"].loc[9000]"
      ],
      "execution_count": 16,
      "outputs": [
        {
          "output_type": "execute_result",
          "data": {
            "text/plain": [
              "1.0"
            ]
          },
          "metadata": {
            "tags": []
          },
          "execution_count": 16
        }
      ]
    },
    {
      "cell_type": "code",
      "metadata": {
        "id": "ZVnkhK1ESNus",
        "colab_type": "code",
        "outputId": "0741c28e-cf88-4033-8d64-fd52d3564a9d",
        "colab": {
          "base_uri": "https://localhost:8080/",
          "height": 104
        }
      },
      "source": [
        "train[\"passenger_count\"].loc[9000] = np.nan"
      ],
      "execution_count": 17,
      "outputs": [
        {
          "output_type": "stream",
          "text": [
            "/usr/local/lib/python3.6/dist-packages/pandas/core/indexing.py:190: SettingWithCopyWarning: \n",
            "A value is trying to be set on a copy of a slice from a DataFrame\n",
            "\n",
            "See the caveats in the documentation: http://pandas.pydata.org/pandas-docs/stable/indexing.html#indexing-view-versus-copy\n",
            "  self._setitem_with_indexer(indexer, value)\n"
          ],
          "name": "stderr"
        }
      ]
    },
    {
      "cell_type": "code",
      "metadata": {
        "id": "wREInHfZSXlo",
        "colab_type": "code",
        "outputId": "9b2e6dc2-3554-4fd5-dd19-fcf202643496",
        "colab": {
          "base_uri": "https://localhost:8080/",
          "height": 34
        }
      },
      "source": [
        "train[\"passenger_count\"].loc[9000]"
      ],
      "execution_count": 18,
      "outputs": [
        {
          "output_type": "execute_result",
          "data": {
            "text/plain": [
              "nan"
            ]
          },
          "metadata": {
            "tags": []
          },
          "execution_count": 18
        }
      ]
    },
    {
      "cell_type": "code",
      "metadata": {
        "id": "M9LUJaddUP4s",
        "colab_type": "code",
        "outputId": "a3370801-c683-48d5-e854-66853b3f5078",
        "colab": {
          "base_uri": "https://localhost:8080/",
          "height": 34
        }
      },
      "source": [
        "train.mode()['passenger_count'][0]"
      ],
      "execution_count": 19,
      "outputs": [
        {
          "output_type": "execute_result",
          "data": {
            "text/plain": [
              "1.0"
            ]
          },
          "metadata": {
            "tags": []
          },
          "execution_count": 19
        }
      ]
    },
    {
      "cell_type": "code",
      "metadata": {
        "id": "aiaOkobyV0Cz",
        "colab_type": "code",
        "outputId": "43e79d09-3cc5-4283-8971-70f2a21e4061",
        "colab": {
          "base_uri": "https://localhost:8080/",
          "height": 1000
        }
      },
      "source": [
        "pd.to_numeric(train[\"passenger_count\"])"
      ],
      "execution_count": 20,
      "outputs": [
        {
          "output_type": "execute_result",
          "data": {
            "text/plain": [
              "0        1.0\n",
              "1        1.0\n",
              "2        2.0\n",
              "3        1.0\n",
              "4        1.0\n",
              "5        1.0\n",
              "6        1.0\n",
              "7        1.0\n",
              "8        1.0\n",
              "9        2.0\n",
              "10       1.0\n",
              "11       3.0\n",
              "12       2.0\n",
              "13       1.0\n",
              "14       2.0\n",
              "15       1.0\n",
              "16       1.0\n",
              "17       1.0\n",
              "18       1.0\n",
              "19       1.0\n",
              "20       1.0\n",
              "21       1.0\n",
              "22       1.0\n",
              "23       1.0\n",
              "24       1.0\n",
              "25       3.0\n",
              "26       1.0\n",
              "27       3.0\n",
              "28       1.0\n",
              "29       2.0\n",
              "        ... \n",
              "15978    1.0\n",
              "15979    1.0\n",
              "15980    5.0\n",
              "15981    1.0\n",
              "15982    1.0\n",
              "15983    2.0\n",
              "15984    2.0\n",
              "15985    1.0\n",
              "15986    2.0\n",
              "15987    1.0\n",
              "15988    1.0\n",
              "15989    1.0\n",
              "15990    4.0\n",
              "15991    1.0\n",
              "15992    2.0\n",
              "15993    5.0\n",
              "15994    1.0\n",
              "15995    1.0\n",
              "15996    1.0\n",
              "15997    1.0\n",
              "15998    6.0\n",
              "15999    2.0\n",
              "16000    3.0\n",
              "16001    1.0\n",
              "16002    1.0\n",
              "16003    1.0\n",
              "16004    2.0\n",
              "16005    1.0\n",
              "16006    1.0\n",
              "16007    NaN\n",
              "Name: passenger_count, Length: 15987, dtype: float64"
            ]
          },
          "metadata": {
            "tags": []
          },
          "execution_count": 20
        }
      ]
    },
    {
      "cell_type": "code",
      "metadata": {
        "id": "fkTvgVLHVFOk",
        "colab_type": "code",
        "colab": {}
      },
      "source": [
        "train[\"passenger_count\"].fillna(train.mode()['passenger_count'][0], inplace= True)"
      ],
      "execution_count": 0,
      "outputs": []
    },
    {
      "cell_type": "code",
      "metadata": {
        "id": "PKninG6xVY8P",
        "colab_type": "code",
        "outputId": "e99e1dc4-da23-414f-8466-e8f1fe69e174",
        "colab": {
          "base_uri": "https://localhost:8080/",
          "height": 34
        }
      },
      "source": [
        "train[\"passenger_count\"].unique()"
      ],
      "execution_count": 22,
      "outputs": [
        {
          "output_type": "execute_result",
          "data": {
            "text/plain": [
              "array([1., 2., 3., 6., 5., 4.])"
            ]
          },
          "metadata": {
            "tags": []
          },
          "execution_count": 22
        }
      ]
    },
    {
      "cell_type": "markdown",
      "metadata": {
        "id": "zFcI3P4A6SGs",
        "colab_type": "text"
      },
      "source": [
        "***fare_amount has 0.149% of missing values ***"
      ]
    },
    {
      "cell_type": "code",
      "metadata": {
        "id": "Ie_MalmUFZWn",
        "colab_type": "code",
        "outputId": "1ee0e91a-d14d-462c-80b4-d25c197eac4c",
        "colab": {
          "base_uri": "https://localhost:8080/",
          "height": 208
        }
      },
      "source": [
        "train.isnull().sum()"
      ],
      "execution_count": 23,
      "outputs": [
        {
          "output_type": "execute_result",
          "data": {
            "text/plain": [
              "fare_amount          23\n",
              "pickup_longitude      0\n",
              "pickup_latitude       0\n",
              "dropoff_longitude     0\n",
              "dropoff_latitude      0\n",
              "passenger_count       0\n",
              "year                  0\n",
              "month                 0\n",
              "pickup_date           0\n",
              "pickup_hour           0\n",
              "dtype: int64"
            ]
          },
          "metadata": {
            "tags": []
          },
          "execution_count": 23
        }
      ]
    },
    {
      "cell_type": "code",
      "metadata": {
        "id": "sbFpraqs3UFb",
        "colab_type": "code",
        "outputId": "5f94265f-8038-4ba3-db8b-d81afcb51fe5",
        "colab": {
          "base_uri": "https://localhost:8080/",
          "height": 226
        }
      },
      "source": [
        "train.head()"
      ],
      "execution_count": 24,
      "outputs": [
        {
          "output_type": "execute_result",
          "data": {
            "text/html": [
              "<div>\n",
              "<style scoped>\n",
              "    .dataframe tbody tr th:only-of-type {\n",
              "        vertical-align: middle;\n",
              "    }\n",
              "\n",
              "    .dataframe tbody tr th {\n",
              "        vertical-align: top;\n",
              "    }\n",
              "\n",
              "    .dataframe thead th {\n",
              "        text-align: right;\n",
              "    }\n",
              "</style>\n",
              "<table border=\"1\" class=\"dataframe\">\n",
              "  <thead>\n",
              "    <tr style=\"text-align: right;\">\n",
              "      <th></th>\n",
              "      <th>fare_amount</th>\n",
              "      <th>pickup_longitude</th>\n",
              "      <th>pickup_latitude</th>\n",
              "      <th>dropoff_longitude</th>\n",
              "      <th>dropoff_latitude</th>\n",
              "      <th>passenger_count</th>\n",
              "      <th>year</th>\n",
              "      <th>month</th>\n",
              "      <th>pickup_date</th>\n",
              "      <th>pickup_hour</th>\n",
              "    </tr>\n",
              "  </thead>\n",
              "  <tbody>\n",
              "    <tr>\n",
              "      <th>0</th>\n",
              "      <td>4.5</td>\n",
              "      <td>-73.844311</td>\n",
              "      <td>40.721319</td>\n",
              "      <td>-73.841610</td>\n",
              "      <td>40.712278</td>\n",
              "      <td>1.0</td>\n",
              "      <td>2009</td>\n",
              "      <td>6</td>\n",
              "      <td>15</td>\n",
              "      <td>17</td>\n",
              "    </tr>\n",
              "    <tr>\n",
              "      <th>1</th>\n",
              "      <td>16.9</td>\n",
              "      <td>-74.016048</td>\n",
              "      <td>40.711303</td>\n",
              "      <td>-73.979268</td>\n",
              "      <td>40.782004</td>\n",
              "      <td>1.0</td>\n",
              "      <td>2010</td>\n",
              "      <td>1</td>\n",
              "      <td>5</td>\n",
              "      <td>16</td>\n",
              "    </tr>\n",
              "    <tr>\n",
              "      <th>2</th>\n",
              "      <td>5.7</td>\n",
              "      <td>-73.982738</td>\n",
              "      <td>40.761270</td>\n",
              "      <td>-73.991242</td>\n",
              "      <td>40.750562</td>\n",
              "      <td>2.0</td>\n",
              "      <td>2011</td>\n",
              "      <td>8</td>\n",
              "      <td>18</td>\n",
              "      <td>0</td>\n",
              "    </tr>\n",
              "    <tr>\n",
              "      <th>3</th>\n",
              "      <td>7.7</td>\n",
              "      <td>-73.987130</td>\n",
              "      <td>40.733143</td>\n",
              "      <td>-73.991567</td>\n",
              "      <td>40.758092</td>\n",
              "      <td>1.0</td>\n",
              "      <td>2012</td>\n",
              "      <td>4</td>\n",
              "      <td>21</td>\n",
              "      <td>4</td>\n",
              "    </tr>\n",
              "    <tr>\n",
              "      <th>4</th>\n",
              "      <td>5.3</td>\n",
              "      <td>-73.968095</td>\n",
              "      <td>40.768008</td>\n",
              "      <td>-73.956655</td>\n",
              "      <td>40.783762</td>\n",
              "      <td>1.0</td>\n",
              "      <td>2010</td>\n",
              "      <td>3</td>\n",
              "      <td>9</td>\n",
              "      <td>7</td>\n",
              "    </tr>\n",
              "  </tbody>\n",
              "</table>\n",
              "</div>"
            ],
            "text/plain": [
              "  fare_amount  pickup_longitude  ...  pickup_date  pickup_hour\n",
              "0         4.5        -73.844311  ...           15           17\n",
              "1        16.9        -74.016048  ...            5           16\n",
              "2         5.7        -73.982738  ...           18            0\n",
              "3         7.7        -73.987130  ...           21            4\n",
              "4         5.3        -73.968095  ...            9            7\n",
              "\n",
              "[5 rows x 10 columns]"
            ]
          },
          "metadata": {
            "tags": []
          },
          "execution_count": 24
        }
      ]
    },
    {
      "cell_type": "code",
      "metadata": {
        "id": "2K4fsR-73V0L",
        "colab_type": "code",
        "outputId": "6f05891b-4879-41ce-a91f-698bb08dabd7",
        "colab": {
          "base_uri": "https://localhost:8080/",
          "height": 104
        }
      },
      "source": [
        "train[\"fare_amount\"].describe()"
      ],
      "execution_count": 25,
      "outputs": [
        {
          "output_type": "execute_result",
          "data": {
            "text/plain": [
              "count     15964\n",
              "unique      468\n",
              "top         6.5\n",
              "freq        755\n",
              "Name: fare_amount, dtype: object"
            ]
          },
          "metadata": {
            "tags": []
          },
          "execution_count": 25
        }
      ]
    },
    {
      "cell_type": "code",
      "metadata": {
        "id": "R3xGCqKsHfhN",
        "colab_type": "code",
        "colab": {}
      },
      "source": [
        "train = train.drop(train[train['fare_amount'] == \"430-\"].index, axis=0)"
      ],
      "execution_count": 0,
      "outputs": []
    },
    {
      "cell_type": "code",
      "metadata": {
        "id": "MLBbQtWK33Me",
        "colab_type": "code",
        "outputId": "641511d7-cedb-4dd7-b42b-9edaf6c1fede",
        "colab": {
          "base_uri": "https://localhost:8080/",
          "height": 226
        }
      },
      "source": [
        "train.head()"
      ],
      "execution_count": 27,
      "outputs": [
        {
          "output_type": "execute_result",
          "data": {
            "text/html": [
              "<div>\n",
              "<style scoped>\n",
              "    .dataframe tbody tr th:only-of-type {\n",
              "        vertical-align: middle;\n",
              "    }\n",
              "\n",
              "    .dataframe tbody tr th {\n",
              "        vertical-align: top;\n",
              "    }\n",
              "\n",
              "    .dataframe thead th {\n",
              "        text-align: right;\n",
              "    }\n",
              "</style>\n",
              "<table border=\"1\" class=\"dataframe\">\n",
              "  <thead>\n",
              "    <tr style=\"text-align: right;\">\n",
              "      <th></th>\n",
              "      <th>fare_amount</th>\n",
              "      <th>pickup_longitude</th>\n",
              "      <th>pickup_latitude</th>\n",
              "      <th>dropoff_longitude</th>\n",
              "      <th>dropoff_latitude</th>\n",
              "      <th>passenger_count</th>\n",
              "      <th>year</th>\n",
              "      <th>month</th>\n",
              "      <th>pickup_date</th>\n",
              "      <th>pickup_hour</th>\n",
              "    </tr>\n",
              "  </thead>\n",
              "  <tbody>\n",
              "    <tr>\n",
              "      <th>0</th>\n",
              "      <td>4.5</td>\n",
              "      <td>-73.844311</td>\n",
              "      <td>40.721319</td>\n",
              "      <td>-73.841610</td>\n",
              "      <td>40.712278</td>\n",
              "      <td>1.0</td>\n",
              "      <td>2009</td>\n",
              "      <td>6</td>\n",
              "      <td>15</td>\n",
              "      <td>17</td>\n",
              "    </tr>\n",
              "    <tr>\n",
              "      <th>1</th>\n",
              "      <td>16.9</td>\n",
              "      <td>-74.016048</td>\n",
              "      <td>40.711303</td>\n",
              "      <td>-73.979268</td>\n",
              "      <td>40.782004</td>\n",
              "      <td>1.0</td>\n",
              "      <td>2010</td>\n",
              "      <td>1</td>\n",
              "      <td>5</td>\n",
              "      <td>16</td>\n",
              "    </tr>\n",
              "    <tr>\n",
              "      <th>2</th>\n",
              "      <td>5.7</td>\n",
              "      <td>-73.982738</td>\n",
              "      <td>40.761270</td>\n",
              "      <td>-73.991242</td>\n",
              "      <td>40.750562</td>\n",
              "      <td>2.0</td>\n",
              "      <td>2011</td>\n",
              "      <td>8</td>\n",
              "      <td>18</td>\n",
              "      <td>0</td>\n",
              "    </tr>\n",
              "    <tr>\n",
              "      <th>3</th>\n",
              "      <td>7.7</td>\n",
              "      <td>-73.987130</td>\n",
              "      <td>40.733143</td>\n",
              "      <td>-73.991567</td>\n",
              "      <td>40.758092</td>\n",
              "      <td>1.0</td>\n",
              "      <td>2012</td>\n",
              "      <td>4</td>\n",
              "      <td>21</td>\n",
              "      <td>4</td>\n",
              "    </tr>\n",
              "    <tr>\n",
              "      <th>4</th>\n",
              "      <td>5.3</td>\n",
              "      <td>-73.968095</td>\n",
              "      <td>40.768008</td>\n",
              "      <td>-73.956655</td>\n",
              "      <td>40.783762</td>\n",
              "      <td>1.0</td>\n",
              "      <td>2010</td>\n",
              "      <td>3</td>\n",
              "      <td>9</td>\n",
              "      <td>7</td>\n",
              "    </tr>\n",
              "  </tbody>\n",
              "</table>\n",
              "</div>"
            ],
            "text/plain": [
              "  fare_amount  pickup_longitude  ...  pickup_date  pickup_hour\n",
              "0         4.5        -73.844311  ...           15           17\n",
              "1        16.9        -74.016048  ...            5           16\n",
              "2         5.7        -73.982738  ...           18            0\n",
              "3         7.7        -73.987130  ...           21            4\n",
              "4         5.3        -73.968095  ...            9            7\n",
              "\n",
              "[5 rows x 10 columns]"
            ]
          },
          "metadata": {
            "tags": []
          },
          "execution_count": 27
        }
      ]
    },
    {
      "cell_type": "code",
      "metadata": {
        "id": "3XiLrVZd5U_Y",
        "colab_type": "code",
        "colab": {}
      },
      "source": [
        "train[\"fare_amount\"] = train[\"fare_amount\"].astype(float)"
      ],
      "execution_count": 0,
      "outputs": []
    },
    {
      "cell_type": "code",
      "metadata": {
        "id": "lSLHJ3vJ3QQ9",
        "colab_type": "code",
        "outputId": "17e8b619-1b98-4c1f-f2e9-1dc56ad40e79",
        "colab": {
          "base_uri": "https://localhost:8080/",
          "height": 301
        }
      },
      "source": [
        "plt.figure(figsize=(20,5))\n",
        "%matplotlib inline\n",
        "\n",
        "\n",
        "sns.boxplot(x=train['fare_amount'],data=train,orient='h')"
      ],
      "execution_count": 29,
      "outputs": [
        {
          "output_type": "execute_result",
          "data": {
            "text/plain": [
              "<matplotlib.axes._subplots.AxesSubplot at 0x7ff8946c1198>"
            ]
          },
          "metadata": {
            "tags": []
          },
          "execution_count": 29
        },
        {
          "output_type": "display_data",
          "data": {
            "image/png": "[encoded data removed]",
            "text/plain": [
              "<Figure size 432x288 with 1 Axes>"
            ]
          },
          "metadata": {
            "tags": []
          }
        }
      ]
    },
    {
      "cell_type": "code",
      "metadata": {
        "id": "evzMwvlz4thg",
        "colab_type": "code",
        "colab": {}
      },
      "source": [
        "Q1 =  train['fare_amount'].quantile(0.25)\n",
        "Q3 = train['fare_amount'].quantile(0.75)\n",
        "IQR = Q3 - Q1"
      ],
      "execution_count": 0,
      "outputs": []
    },
    {
      "cell_type": "code",
      "metadata": {
        "id": "TZopI_gB5cQ3",
        "colab_type": "code",
        "outputId": "d3b14c1c-cb59-4471-921e-8e89ef1c88fa",
        "colab": {
          "base_uri": "https://localhost:8080/",
          "height": 34
        }
      },
      "source": [
        "(train[(train['fare_amount'] < Q1-1.5*IQR ) | (train['fare_amount'] > Q3+1.5*IQR)]['fare_amount']).shape"
      ],
      "execution_count": 31,
      "outputs": [
        {
          "output_type": "execute_result",
          "data": {
            "text/plain": [
              "(1394,)"
            ]
          },
          "metadata": {
            "tags": []
          },
          "execution_count": 31
        }
      ]
    },
    {
      "cell_type": "code",
      "metadata": {
        "id": "zbnYCQvrgh6r",
        "colab_type": "code",
        "colab": {}
      },
      "source": [
        "maximum = Q3+1.5*IQR\n",
        "minimum = Q1-1.5*IQR"
      ],
      "execution_count": 0,
      "outputs": []
    },
    {
      "cell_type": "code",
      "metadata": {
        "id": "RVg5Tt1N3Ddv",
        "colab_type": "code",
        "outputId": "a7e6e9d6-b016-4616-a969-cc3298ff8e56",
        "colab": {
          "base_uri": "https://localhost:8080/",
          "height": 173
        }
      },
      "source": [
        "train[\"fare_amount\"].describe()"
      ],
      "execution_count": 33,
      "outputs": [
        {
          "output_type": "execute_result",
          "data": {
            "text/plain": [
              "count    15963.000000\n",
              "mean        15.044403\n",
              "std        431.524487\n",
              "min         -3.000000\n",
              "25%          6.000000\n",
              "50%          8.500000\n",
              "75%         12.500000\n",
              "max      54343.000000\n",
              "Name: fare_amount, dtype: float64"
            ]
          },
          "metadata": {
            "tags": []
          },
          "execution_count": 33
        }
      ]
    },
    {
      "cell_type": "code",
      "metadata": {
        "id": "6NQlfM_YknWE",
        "colab_type": "code",
        "colab": {}
      },
      "source": [
        "train.loc[train[\"fare_amount\"] < minimum,: 'fare_amount'] = np.nan\n",
        "train.loc[train[\"fare_amount\"] > maximum,: 'fare_amount'] = np.nan"
      ],
      "execution_count": 0,
      "outputs": []
    },
    {
      "cell_type": "code",
      "metadata": {
        "id": "MvZRtmr1c1e7",
        "colab_type": "code",
        "outputId": "f27b7807-8da2-411a-a5af-1991a514a234",
        "colab": {
          "base_uri": "https://localhost:8080/",
          "height": 208
        }
      },
      "source": [
        "train.isnull().sum()"
      ],
      "execution_count": 35,
      "outputs": [
        {
          "output_type": "execute_result",
          "data": {
            "text/plain": [
              "fare_amount          1417\n",
              "pickup_longitude        0\n",
              "pickup_latitude         0\n",
              "dropoff_longitude       0\n",
              "dropoff_latitude        0\n",
              "passenger_count         0\n",
              "year                    0\n",
              "month                   0\n",
              "pickup_date             0\n",
              "pickup_hour             0\n",
              "dtype: int64"
            ]
          },
          "metadata": {
            "tags": []
          },
          "execution_count": 35
        }
      ]
    },
    {
      "cell_type": "code",
      "metadata": {
        "id": "Igpo7PJolnX2",
        "colab_type": "code",
        "outputId": "749d5bff-1fb5-4811-ff8a-7c0006a94581",
        "colab": {
          "base_uri": "https://localhost:8080/",
          "height": 208
        }
      },
      "source": [
        "train[\"fare_amount\"].head(10)"
      ],
      "execution_count": 36,
      "outputs": [
        {
          "output_type": "execute_result",
          "data": {
            "text/plain": [
              "0     4.5\n",
              "1    16.9\n",
              "2     5.7\n",
              "3     7.7\n",
              "4     5.3\n",
              "5    12.1\n",
              "6     7.5\n",
              "7    16.5\n",
              "8     NaN\n",
              "9     8.9\n",
              "Name: fare_amount, dtype: float64"
            ]
          },
          "metadata": {
            "tags": []
          },
          "execution_count": 36
        }
      ]
    },
    {
      "cell_type": "code",
      "metadata": {
        "id": "0LQP0UZ21GAH",
        "colab_type": "code",
        "colab": {}
      },
      "source": [
        "train = train.drop(train[train['fare_amount']<=0].index, axis=0) \n",
        "# drop variable which have 0 fare_amount"
      ],
      "execution_count": 0,
      "outputs": []
    },
    {
      "cell_type": "code",
      "metadata": {
        "id": "7ioyTCQ62Xvn",
        "colab_type": "code",
        "outputId": "8bf3978d-1b71-4084-c99b-c728312c1d11",
        "colab": {
          "base_uri": "https://localhost:8080/",
          "height": 173
        }
      },
      "source": [
        "train[\"fare_amount\"].describe()"
      ],
      "execution_count": 38,
      "outputs": [
        {
          "output_type": "execute_result",
          "data": {
            "text/plain": [
              "count    14565.000000\n",
              "mean         8.904179\n",
              "std          4.137421\n",
              "min          0.010000\n",
              "25%          5.700000\n",
              "50%          8.000000\n",
              "75%         11.000000\n",
              "max         22.100000\n",
              "Name: fare_amount, dtype: float64"
            ]
          },
          "metadata": {
            "tags": []
          },
          "execution_count": 38
        }
      ]
    },
    {
      "cell_type": "code",
      "metadata": {
        "id": "T2AWJcMxpmYM",
        "colab_type": "code",
        "outputId": "8863a7cb-b845-48e8-a9b0-a74fed240186",
        "colab": {
          "base_uri": "https://localhost:8080/",
          "height": 301
        }
      },
      "source": [
        "plt.figure(figsize=(20,5))\n",
        "%matplotlib inline\n",
        "\n",
        "\n",
        "sns.boxplot(x=train['fare_amount'],data=train,orient='h')"
      ],
      "execution_count": 39,
      "outputs": [
        {
          "output_type": "execute_result",
          "data": {
            "text/plain": [
              "<matplotlib.axes._subplots.AxesSubplot at 0x7ff8947922e8>"
            ]
          },
          "metadata": {
            "tags": []
          },
          "execution_count": 39
        },
        {
          "output_type": "display_data",
          "data": {
            "image/png": "[encoded data removed]",
            "text/plain": [
              "<Figure size 432x288 with 1 Axes>"
            ]
          },
          "metadata": {
            "tags": []
          }
        }
      ]
    },
    {
      "cell_type": "code",
      "metadata": {
        "id": "5-gwwdrdl6lc",
        "colab_type": "code",
        "outputId": "e2aba32a-9b88-41a3-aabb-4e7459feac58",
        "colab": {
          "base_uri": "https://localhost:8080/",
          "height": 208
        }
      },
      "source": [
        "train.isnull().sum()"
      ],
      "execution_count": 40,
      "outputs": [
        {
          "output_type": "execute_result",
          "data": {
            "text/plain": [
              "fare_amount          1417\n",
              "pickup_longitude        0\n",
              "pickup_latitude         0\n",
              "dropoff_longitude       0\n",
              "dropoff_latitude        0\n",
              "passenger_count         0\n",
              "year                    0\n",
              "month                   0\n",
              "pickup_date             0\n",
              "pickup_hour             0\n",
              "dtype: int64"
            ]
          },
          "metadata": {
            "tags": []
          },
          "execution_count": 40
        }
      ]
    },
    {
      "cell_type": "code",
      "metadata": {
        "id": "U7Fz_8_I2Sj8",
        "colab_type": "code",
        "outputId": "6ee50f95-e30c-4992-cfb6-af39b1d91a91",
        "colab": {
          "base_uri": "https://localhost:8080/",
          "height": 34
        }
      },
      "source": [
        "train[\"fare_amount\"].iloc[7000]"
      ],
      "execution_count": 41,
      "outputs": [
        {
          "output_type": "execute_result",
          "data": {
            "text/plain": [
              "7.7"
            ]
          },
          "metadata": {
            "tags": []
          },
          "execution_count": 41
        }
      ]
    },
    {
      "cell_type": "markdown",
      "metadata": {
        "id": "J7TEA7RN3Cxo",
        "colab_type": "text"
      },
      "source": [
        "***Actual value in fare_amount at 7000 location = 7.7*** ***(Randomly selected)***"
      ]
    },
    {
      "cell_type": "code",
      "metadata": {
        "id": "hzIwDJCx3TQs",
        "colab_type": "code",
        "colab": {}
      },
      "source": [
        "#Actual value = 7.7\n",
        "#Median = 8\n",
        "#Mean = 8.47\n",
        "#KNN = 10.537"
      ],
      "execution_count": 0,
      "outputs": []
    },
    {
      "cell_type": "code",
      "metadata": {
        "id": "wK-IKfbn87Rx",
        "colab_type": "code",
        "outputId": "14a46399-c1ea-4404-bd8b-0a0d38552757",
        "colab": {
          "base_uri": "https://localhost:8080/",
          "height": 104
        }
      },
      "source": [
        "train[\"fare_amount\"].iloc[7000]= np.nan"
      ],
      "execution_count": 43,
      "outputs": [
        {
          "output_type": "stream",
          "text": [
            "/usr/local/lib/python3.6/dist-packages/pandas/core/indexing.py:190: SettingWithCopyWarning: \n",
            "A value is trying to be set on a copy of a slice from a DataFrame\n",
            "\n",
            "See the caveats in the documentation: http://pandas.pydata.org/pandas-docs/stable/indexing.html#indexing-view-versus-copy\n",
            "  self._setitem_with_indexer(indexer, value)\n"
          ],
          "name": "stderr"
        }
      ]
    },
    {
      "cell_type": "code",
      "metadata": {
        "id": "VLFbEHlry6TR",
        "colab_type": "code",
        "outputId": "af3e1a49-b350-4647-8e88-c629dfd5bfe8",
        "colab": {
          "base_uri": "https://localhost:8080/",
          "height": 34
        }
      },
      "source": [
        "train[\"fare_amount\"].iloc[7000]"
      ],
      "execution_count": 44,
      "outputs": [
        {
          "output_type": "execute_result",
          "data": {
            "text/plain": [
              "nan"
            ]
          },
          "metadata": {
            "tags": []
          },
          "execution_count": 44
        }
      ]
    },
    {
      "cell_type": "code",
      "metadata": {
        "id": "JhQVcHq5bg_B",
        "colab_type": "code",
        "colab": {}
      },
      "source": [
        "train[\"fare_amount\"].fillna(train[\"fare_amount\"].median(), inplace= True)"
      ],
      "execution_count": 0,
      "outputs": []
    },
    {
      "cell_type": "code",
      "metadata": {
        "id": "eJTtwVkcnfww",
        "colab_type": "code",
        "colab": {}
      },
      "source": [
        "#train = pd.DataFrame(KNN(k=3).fit_transform(train), columns = train.columns)"
      ],
      "execution_count": 0,
      "outputs": []
    },
    {
      "cell_type": "code",
      "metadata": {
        "id": "WTsgdSuMqHpg",
        "colab_type": "code",
        "colab": {}
      },
      "source": [
        "# a6_dims = (14, 14)\n",
        "# fig, axes = plt.subplots(nrows=3,ncols=2,figsize=a6_dims)\n",
        "# sns.set(color_codes=True)\n",
        "# sns.set(style=\"white\", palette=\"muted\")\n",
        "# sns.distplot(train['fare_amount'], ax=axes[0][0])"
      ],
      "execution_count": 0,
      "outputs": []
    },
    {
      "cell_type": "code",
      "metadata": {
        "id": "QINue0JG1XyL",
        "colab_type": "code",
        "outputId": "d56c5c9a-a91f-463c-91b6-4b790a82e310",
        "colab": {
          "base_uri": "https://localhost:8080/",
          "height": 34
        }
      },
      "source": [
        "train[\"fare_amount\"].iloc[7000]"
      ],
      "execution_count": 48,
      "outputs": [
        {
          "output_type": "execute_result",
          "data": {
            "text/plain": [
              "8.0"
            ]
          },
          "metadata": {
            "tags": []
          },
          "execution_count": 48
        }
      ]
    },
    {
      "cell_type": "code",
      "metadata": {
        "id": "jLfiUgYRoFE9",
        "colab_type": "code",
        "outputId": "c3b2abe0-420c-4384-93aa-46aaa55ba61f",
        "colab": {
          "base_uri": "https://localhost:8080/",
          "height": 173
        }
      },
      "source": [
        "train[\"fare_amount\"].describe()"
      ],
      "execution_count": 49,
      "outputs": [
        {
          "output_type": "execute_result",
          "data": {
            "text/plain": [
              "count    15982.000000\n",
              "mean         8.824031\n",
              "std          3.958085\n",
              "min          0.010000\n",
              "25%          6.000000\n",
              "50%          8.000000\n",
              "75%         10.500000\n",
              "max         22.100000\n",
              "Name: fare_amount, dtype: float64"
            ]
          },
          "metadata": {
            "tags": []
          },
          "execution_count": 49
        }
      ]
    },
    {
      "cell_type": "code",
      "metadata": {
        "id": "mAaDATOaccbN",
        "colab_type": "code",
        "outputId": "dda79330-07b2-4276-f9a1-25910b319d42",
        "colab": {
          "base_uri": "https://localhost:8080/",
          "height": 208
        }
      },
      "source": [
        "train.isnull().sum()"
      ],
      "execution_count": 50,
      "outputs": [
        {
          "output_type": "execute_result",
          "data": {
            "text/plain": [
              "fare_amount          0\n",
              "pickup_longitude     0\n",
              "pickup_latitude      0\n",
              "dropoff_longitude    0\n",
              "dropoff_latitude     0\n",
              "passenger_count      0\n",
              "year                 0\n",
              "month                0\n",
              "pickup_date          0\n",
              "pickup_hour          0\n",
              "dtype: int64"
            ]
          },
          "metadata": {
            "tags": []
          },
          "execution_count": 50
        }
      ]
    },
    {
      "cell_type": "code",
      "metadata": {
        "id": "HD2EMnoJGGhV",
        "colab_type": "code",
        "outputId": "5d54ad06-496e-4c6e-db60-9e9a0d82076f",
        "colab": {
          "base_uri": "https://localhost:8080/",
          "height": 101
        }
      },
      "source": [
        "train.loc[train['pickup_latitude'] > 90]"
      ],
      "execution_count": 51,
      "outputs": [
        {
          "output_type": "execute_result",
          "data": {
            "text/html": [
              "<div>\n",
              "<style scoped>\n",
              "    .dataframe tbody tr th:only-of-type {\n",
              "        vertical-align: middle;\n",
              "    }\n",
              "\n",
              "    .dataframe tbody tr th {\n",
              "        vertical-align: top;\n",
              "    }\n",
              "\n",
              "    .dataframe thead th {\n",
              "        text-align: right;\n",
              "    }\n",
              "</style>\n",
              "<table border=\"1\" class=\"dataframe\">\n",
              "  <thead>\n",
              "    <tr style=\"text-align: right;\">\n",
              "      <th></th>\n",
              "      <th>fare_amount</th>\n",
              "      <th>pickup_longitude</th>\n",
              "      <th>pickup_latitude</th>\n",
              "      <th>dropoff_longitude</th>\n",
              "      <th>dropoff_latitude</th>\n",
              "      <th>passenger_count</th>\n",
              "      <th>year</th>\n",
              "      <th>month</th>\n",
              "      <th>pickup_date</th>\n",
              "      <th>pickup_hour</th>\n",
              "    </tr>\n",
              "  </thead>\n",
              "  <tbody>\n",
              "    <tr>\n",
              "      <th>5663</th>\n",
              "      <td>3.3</td>\n",
              "      <td>-73.947235</td>\n",
              "      <td>401.083332</td>\n",
              "      <td>-73.951392</td>\n",
              "      <td>40.778927</td>\n",
              "      <td>1.0</td>\n",
              "      <td>2011</td>\n",
              "      <td>7</td>\n",
              "      <td>30</td>\n",
              "      <td>11</td>\n",
              "    </tr>\n",
              "  </tbody>\n",
              "</table>\n",
              "</div>"
            ],
            "text/plain": [
              "      fare_amount  pickup_longitude  ...  pickup_date  pickup_hour\n",
              "5663          3.3        -73.947235  ...           30           11\n",
              "\n",
              "[1 rows x 10 columns]"
            ]
          },
          "metadata": {
            "tags": []
          },
          "execution_count": 51
        }
      ]
    },
    {
      "cell_type": "code",
      "metadata": {
        "id": "gTd6PhaxGcXQ",
        "colab_type": "code",
        "outputId": "62293746-541d-4fe0-d675-62c58c9101ba",
        "colab": {
          "base_uri": "https://localhost:8080/",
          "height": 34
        }
      },
      "source": [
        "train.shape"
      ],
      "execution_count": 52,
      "outputs": [
        {
          "output_type": "execute_result",
          "data": {
            "text/plain": [
              "(15982, 10)"
            ]
          },
          "metadata": {
            "tags": []
          },
          "execution_count": 52
        }
      ]
    },
    {
      "cell_type": "markdown",
      "metadata": {
        "id": "lpXXuCPLKXqj",
        "colab_type": "text"
      },
      "source": [
        "***Remove all the variables which are beyond the range***\n",
        "***latitude ranges from -90 to +90\n",
        "*** ***longitude ranges from -180 to +180***"
      ]
    },
    {
      "cell_type": "code",
      "metadata": {
        "id": "3031aeaWGxEu",
        "colab_type": "code",
        "outputId": "92dd5320-7a96-482a-d17b-b15a9b8116b2",
        "colab": {
          "base_uri": "https://localhost:8080/",
          "height": 173
        }
      },
      "source": [
        "train['pickup_latitude'].describe()"
      ],
      "execution_count": 53,
      "outputs": [
        {
          "output_type": "execute_result",
          "data": {
            "text/plain": [
              "count    15982.000000\n",
              "mean        39.920507\n",
              "std          6.815267\n",
              "min        -74.006893\n",
              "25%         40.734946\n",
              "50%         40.752636\n",
              "75%         40.767401\n",
              "max        401.083332\n",
              "Name: pickup_latitude, dtype: float64"
            ]
          },
          "metadata": {
            "tags": []
          },
          "execution_count": 53
        }
      ]
    },
    {
      "cell_type": "code",
      "metadata": {
        "id": "AshfYkNuHLYl",
        "colab_type": "code",
        "outputId": "6095daf0-0eb5-4f3c-8a46-5fc731c24cd0",
        "colab": {
          "base_uri": "https://localhost:8080/",
          "height": 34
        }
      },
      "source": [
        "train = train.drop(train[train['dropoff_latitude']> 90].index, axis=0) \n",
        "train = train.drop(train[train['pickup_latitude']< -90].index, axis=0) \n",
        "train = train.drop(train[train['dropoff_latitude']< -90].index, axis=0) \n",
        "train = train.drop(train[train['pickup_latitude']> 90].index, axis=0) \n",
        "train.shape"
      ],
      "execution_count": 54,
      "outputs": [
        {
          "output_type": "execute_result",
          "data": {
            "text/plain": [
              "(15981, 10)"
            ]
          },
          "metadata": {
            "tags": []
          },
          "execution_count": 54
        }
      ]
    },
    {
      "cell_type": "code",
      "metadata": {
        "id": "712aBoN6JSQ1",
        "colab_type": "code",
        "outputId": "6a9af33c-f9ff-4537-e88f-7fa66c7a52be",
        "colab": {
          "base_uri": "https://localhost:8080/",
          "height": 34
        }
      },
      "source": [
        "train = train.drop(train[train['pickup_longitude']> 180].index, axis=0) \n",
        "train = train.drop(train[train['pickup_longitude']< -180].index, axis=0) \n",
        "train = train.drop(train[train['dropoff_longitude']> 180].index, axis=0) \n",
        "train = train.drop(train[train['dropoff_longitude']< -180].index, axis=0) \n",
        "train.shape"
      ],
      "execution_count": 55,
      "outputs": [
        {
          "output_type": "execute_result",
          "data": {
            "text/plain": [
              "(15981, 10)"
            ]
          },
          "metadata": {
            "tags": []
          },
          "execution_count": 55
        }
      ]
    },
    {
      "cell_type": "code",
      "metadata": {
        "id": "XFDnsdKBKxd4",
        "colab_type": "code",
        "outputId": "924805ba-b79d-4ba4-de5e-60ba39d6a5f4",
        "colab": {
          "base_uri": "https://localhost:8080/",
          "height": 208
        }
      },
      "source": [
        "train.isnull().sum()"
      ],
      "execution_count": 56,
      "outputs": [
        {
          "output_type": "execute_result",
          "data": {
            "text/plain": [
              "fare_amount          0\n",
              "pickup_longitude     0\n",
              "pickup_latitude      0\n",
              "dropoff_longitude    0\n",
              "dropoff_latitude     0\n",
              "passenger_count      0\n",
              "year                 0\n",
              "month                0\n",
              "pickup_date          0\n",
              "pickup_hour          0\n",
              "dtype: int64"
            ]
          },
          "metadata": {
            "tags": []
          },
          "execution_count": 56
        }
      ]
    },
    {
      "cell_type": "code",
      "metadata": {
        "id": "0Rv0ixUe9RUY",
        "colab_type": "code",
        "colab": {}
      },
      "source": [
        "train.reset_index(drop=True, inplace=True)"
      ],
      "execution_count": 0,
      "outputs": []
    },
    {
      "cell_type": "code",
      "metadata": {
        "id": "i7DMM8bcZmgq",
        "colab_type": "code",
        "outputId": "cd5753da-6582-4d35-e63d-22d16e468e4b",
        "colab": {
          "base_uri": "https://localhost:8080/",
          "height": 226
        }
      },
      "source": [
        "train.head()"
      ],
      "execution_count": 58,
      "outputs": [
        {
          "output_type": "execute_result",
          "data": {
            "text/html": [
              "<div>\n",
              "<style scoped>\n",
              "    .dataframe tbody tr th:only-of-type {\n",
              "        vertical-align: middle;\n",
              "    }\n",
              "\n",
              "    .dataframe tbody tr th {\n",
              "        vertical-align: top;\n",
              "    }\n",
              "\n",
              "    .dataframe thead th {\n",
              "        text-align: right;\n",
              "    }\n",
              "</style>\n",
              "<table border=\"1\" class=\"dataframe\">\n",
              "  <thead>\n",
              "    <tr style=\"text-align: right;\">\n",
              "      <th></th>\n",
              "      <th>fare_amount</th>\n",
              "      <th>pickup_longitude</th>\n",
              "      <th>pickup_latitude</th>\n",
              "      <th>dropoff_longitude</th>\n",
              "      <th>dropoff_latitude</th>\n",
              "      <th>passenger_count</th>\n",
              "      <th>year</th>\n",
              "      <th>month</th>\n",
              "      <th>pickup_date</th>\n",
              "      <th>pickup_hour</th>\n",
              "    </tr>\n",
              "  </thead>\n",
              "  <tbody>\n",
              "    <tr>\n",
              "      <th>0</th>\n",
              "      <td>4.5</td>\n",
              "      <td>-73.844311</td>\n",
              "      <td>40.721319</td>\n",
              "      <td>-73.841610</td>\n",
              "      <td>40.712278</td>\n",
              "      <td>1.0</td>\n",
              "      <td>2009</td>\n",
              "      <td>6</td>\n",
              "      <td>15</td>\n",
              "      <td>17</td>\n",
              "    </tr>\n",
              "    <tr>\n",
              "      <th>1</th>\n",
              "      <td>16.9</td>\n",
              "      <td>-74.016048</td>\n",
              "      <td>40.711303</td>\n",
              "      <td>-73.979268</td>\n",
              "      <td>40.782004</td>\n",
              "      <td>1.0</td>\n",
              "      <td>2010</td>\n",
              "      <td>1</td>\n",
              "      <td>5</td>\n",
              "      <td>16</td>\n",
              "    </tr>\n",
              "    <tr>\n",
              "      <th>2</th>\n",
              "      <td>5.7</td>\n",
              "      <td>-73.982738</td>\n",
              "      <td>40.761270</td>\n",
              "      <td>-73.991242</td>\n",
              "      <td>40.750562</td>\n",
              "      <td>2.0</td>\n",
              "      <td>2011</td>\n",
              "      <td>8</td>\n",
              "      <td>18</td>\n",
              "      <td>0</td>\n",
              "    </tr>\n",
              "    <tr>\n",
              "      <th>3</th>\n",
              "      <td>7.7</td>\n",
              "      <td>-73.987130</td>\n",
              "      <td>40.733143</td>\n",
              "      <td>-73.991567</td>\n",
              "      <td>40.758092</td>\n",
              "      <td>1.0</td>\n",
              "      <td>2012</td>\n",
              "      <td>4</td>\n",
              "      <td>21</td>\n",
              "      <td>4</td>\n",
              "    </tr>\n",
              "    <tr>\n",
              "      <th>4</th>\n",
              "      <td>5.3</td>\n",
              "      <td>-73.968095</td>\n",
              "      <td>40.768008</td>\n",
              "      <td>-73.956655</td>\n",
              "      <td>40.783762</td>\n",
              "      <td>1.0</td>\n",
              "      <td>2010</td>\n",
              "      <td>3</td>\n",
              "      <td>9</td>\n",
              "      <td>7</td>\n",
              "    </tr>\n",
              "  </tbody>\n",
              "</table>\n",
              "</div>"
            ],
            "text/plain": [
              "   fare_amount  pickup_longitude  ...  pickup_date  pickup_hour\n",
              "0          4.5        -73.844311  ...           15           17\n",
              "1         16.9        -74.016048  ...            5           16\n",
              "2          5.7        -73.982738  ...           18            0\n",
              "3          7.7        -73.987130  ...           21            4\n",
              "4          5.3        -73.968095  ...            9            7\n",
              "\n",
              "[5 rows x 10 columns]"
            ]
          },
          "metadata": {
            "tags": []
          },
          "execution_count": 58
        }
      ]
    },
    {
      "cell_type": "code",
      "metadata": {
        "id": "dCj8dXth5dfP",
        "colab_type": "code",
        "outputId": "b3de31b2-3e14-40b6-cf31-466bd78c4b44",
        "colab": {
          "base_uri": "https://localhost:8080/",
          "height": 500
        }
      },
      "source": [
        "# Now we'll plot the bar graph between categorical variable and target variable to see the relations.\n",
        "\n",
        "\n",
        "plt.figure(figsize= (8,8))\n",
        "ax_1 = sns.barplot(x=\"year\", y=\"fare_amount\", data=train, estimator=sum)"
      ],
      "execution_count": 59,
      "outputs": [
        {
          "output_type": "display_data",
          "data": {
            "image/png": "[encoded data removed]",
            "text/plain": [
              "<Figure size 576x576 with 1 Axes>"
            ]
          },
          "metadata": {
            "tags": []
          }
        }
      ]
    },
    {
      "cell_type": "code",
      "metadata": {
        "id": "A6oQvJnJKGZd",
        "colab_type": "code",
        "colab": {}
      },
      "source": [
        "# In the above bar graph, we clearly see that in year 2015, amount_fare is less. In 2009,2010,2011 amount_fare is moderate. In 2012, 2013,2014 amount_fare is high.\n"
      ],
      "execution_count": 0,
      "outputs": []
    },
    {
      "cell_type": "code",
      "metadata": {
        "id": "f0d_nj0VIJB7",
        "colab_type": "code",
        "outputId": "7270350e-8e24-46f1-8536-f583edee796b",
        "colab": {
          "base_uri": "https://localhost:8080/",
          "height": 501
        }
      },
      "source": [
        "plt.figure(figsize= (8,8))\n",
        "ax_2 =  sns.barplot(x=\"pickup_date\", y=\"fare_amount\", data=train, estimator=sum)"
      ],
      "execution_count": 60,
      "outputs": [
        {
          "output_type": "display_data",
          "data": {
            "image/png": "[encoded data removed]",
            "text/plain": [
              "<Figure size 576x576 with 1 Axes>"
            ]
          },
          "metadata": {
            "tags": []
          }
        }
      ]
    },
    {
      "cell_type": "code",
      "metadata": {
        "id": "OG8oem0iNn8m",
        "colab_type": "code",
        "colab": {}
      },
      "source": [
        "# In the above bar graph, we clearly see that in last 3 days, fare_ is less. In starting 5 days amount_fare is moderate and rest of the days amount_fare is high as compared to other days.\n",
        "\n",
        "train['pickup_days'] = pd.cut(x=train['pickup_date'], bins=[0,28,32],labels=[2,1])\n",
        "                      \n",
        "# pickup_date was converted into date_session. On date 29-31, fare_amount is less so it was converted into category \"1\"\n",
        "# On date 1-5, fare_amount is moderate so it was converted into category \"2\"\n",
        "# On date 6-28, fare_amount is high so it was converted into category \"3"
      ],
      "execution_count": 0,
      "outputs": []
    },
    {
      "cell_type": "code",
      "metadata": {
        "id": "aAB7hVvmPvoi",
        "colab_type": "code",
        "colab": {}
      },
      "source": [
        "del train[\"pickup_date\"] ## Deleting Pickup Date because we categrised it to bins in 'pickup_days' variable"
      ],
      "execution_count": 0,
      "outputs": []
    },
    {
      "cell_type": "code",
      "metadata": {
        "id": "K9605cOEIcQP",
        "colab_type": "code",
        "outputId": "308836cf-0a6a-483e-89f7-4a10d534fb71",
        "colab": {
          "base_uri": "https://localhost:8080/",
          "height": 500
        }
      },
      "source": [
        "plt.figure(figsize= (8, 8))\n",
        "ax_3 =  sns.barplot(x=\"month\", y=\"fare_amount\", data=train, estimator=sum)"
      ],
      "execution_count": 63,
      "outputs": [
        {
          "output_type": "display_data",
          "data": {
            "image/png": "[encoded data removed]",
            "text/plain": [
              "<Figure size 576x576 with 1 Axes>"
            ]
          },
          "metadata": {
            "tags": []
          }
        }
      ]
    },
    {
      "cell_type": "code",
      "metadata": {
        "id": "xhL5C2aCP5g8",
        "colab_type": "code",
        "colab": {}
      },
      "source": [
        "# In the above bar graph, we clearly see that in 7th and 8th months, fare_ is less. In last 4 months fare_amount is moderate and starting 6 months fare_amount is high."
      ],
      "execution_count": 0,
      "outputs": []
    },
    {
      "cell_type": "code",
      "metadata": {
        "id": "FCACxF0dInF6",
        "colab_type": "code",
        "outputId": "7005fc37-463a-43f9-c1d7-0b513aa0ae6b",
        "colab": {
          "base_uri": "https://localhost:8080/",
          "height": 501
        }
      },
      "source": [
        "plt.figure(figsize= (8,8))\n",
        "ax_4 =  sns.barplot(x=\"pickup_hour\", y=\"fare_amount\", data=train, estimator=sum)"
      ],
      "execution_count": 65,
      "outputs": [
        {
          "output_type": "display_data",
          "data": {
            "image/png": "[encoded data removed]",
            "text/plain": [
              "<Figure size 576x576 with 1 Axes>"
            ]
          },
          "metadata": {
            "tags": []
          }
        }
      ]
    },
    {
      "cell_type": "code",
      "metadata": {
        "id": "g62_RanrRB0Q",
        "colab_type": "code",
        "colab": {}
      },
      "source": [
        "# In the above bar graph, we clearly see that fare_amount is less between 12:00 am to 6:00 am. Fare_amount is moderate between 7:00am to 5:00 pm and fare_amount is high between 6:00pm to 11:00 pm\n",
        "\n",
        "train['pickup_session'] = pd.cut(x=train['pickup_hour'], bins=[-1,6,17,24],labels=[\"1\",\"2\",\"3\"])\n",
        "                      \n",
        "# pickup_hour was converted into hour_session. From 12-6 am, fare_amount is less so it was converted into category \"1\"\n",
        "# From 7 am to 5 pm , fare_amount is moderate so it was converted into category \"2\"\n",
        "# From 6 pm to 12:00 am, fare_amount is high so it was converted into category \"3"
      ],
      "execution_count": 0,
      "outputs": []
    },
    {
      "cell_type": "code",
      "metadata": {
        "id": "cKlz68U0FAxo",
        "colab_type": "code",
        "colab": {}
      },
      "source": [
        "train[\"pickup_session\"] = train[\"pickup_session\"].astype(int)\n",
        "del train[\"pickup_hour\"]"
      ],
      "execution_count": 0,
      "outputs": []
    },
    {
      "cell_type": "code",
      "metadata": {
        "id": "tfXfiwncJwEP",
        "colab_type": "code",
        "outputId": "afb104e3-f4f6-40ec-f198-a09210744936",
        "colab": {
          "base_uri": "https://localhost:8080/",
          "height": 501
        }
      },
      "source": [
        "plt.figure(figsize= (8,8))\n",
        "ax_5 =  sns.barplot(x=\"passenger_count\", y=\"fare_amount\", data=train, estimator=sum)\n",
        "# As it is already divided in the categories so no need to convert."
      ],
      "execution_count": 68,
      "outputs": [
        {
          "output_type": "display_data",
          "data": {
            "image/png": "[encoded data removed]",
            "text/plain": [
              "<Figure size 576x576 with 1 Axes>"
            ]
          },
          "metadata": {
            "tags": []
          }
        }
      ]
    },
    {
      "cell_type": "code",
      "metadata": {
        "id": "qAJP6BTL7CCt",
        "colab_type": "code",
        "outputId": "0ba10124-3637-4971-961c-3786316b278f",
        "colab": {
          "base_uri": "https://localhost:8080/",
          "height": 226
        }
      },
      "source": [
        "train.head()"
      ],
      "execution_count": 69,
      "outputs": [
        {
          "output_type": "execute_result",
          "data": {
            "text/html": [
              "<div>\n",
              "<style scoped>\n",
              "    .dataframe tbody tr th:only-of-type {\n",
              "        vertical-align: middle;\n",
              "    }\n",
              "\n",
              "    .dataframe tbody tr th {\n",
              "        vertical-align: top;\n",
              "    }\n",
              "\n",
              "    .dataframe thead th {\n",
              "        text-align: right;\n",
              "    }\n",
              "</style>\n",
              "<table border=\"1\" class=\"dataframe\">\n",
              "  <thead>\n",
              "    <tr style=\"text-align: right;\">\n",
              "      <th></th>\n",
              "      <th>fare_amount</th>\n",
              "      <th>pickup_longitude</th>\n",
              "      <th>pickup_latitude</th>\n",
              "      <th>dropoff_longitude</th>\n",
              "      <th>dropoff_latitude</th>\n",
              "      <th>passenger_count</th>\n",
              "      <th>year</th>\n",
              "      <th>month</th>\n",
              "      <th>pickup_days</th>\n",
              "      <th>pickup_session</th>\n",
              "    </tr>\n",
              "  </thead>\n",
              "  <tbody>\n",
              "    <tr>\n",
              "      <th>0</th>\n",
              "      <td>4.5</td>\n",
              "      <td>-73.844311</td>\n",
              "      <td>40.721319</td>\n",
              "      <td>-73.841610</td>\n",
              "      <td>40.712278</td>\n",
              "      <td>1.0</td>\n",
              "      <td>2009</td>\n",
              "      <td>6</td>\n",
              "      <td>2</td>\n",
              "      <td>2</td>\n",
              "    </tr>\n",
              "    <tr>\n",
              "      <th>1</th>\n",
              "      <td>16.9</td>\n",
              "      <td>-74.016048</td>\n",
              "      <td>40.711303</td>\n",
              "      <td>-73.979268</td>\n",
              "      <td>40.782004</td>\n",
              "      <td>1.0</td>\n",
              "      <td>2010</td>\n",
              "      <td>1</td>\n",
              "      <td>2</td>\n",
              "      <td>2</td>\n",
              "    </tr>\n",
              "    <tr>\n",
              "      <th>2</th>\n",
              "      <td>5.7</td>\n",
              "      <td>-73.982738</td>\n",
              "      <td>40.761270</td>\n",
              "      <td>-73.991242</td>\n",
              "      <td>40.750562</td>\n",
              "      <td>2.0</td>\n",
              "      <td>2011</td>\n",
              "      <td>8</td>\n",
              "      <td>2</td>\n",
              "      <td>1</td>\n",
              "    </tr>\n",
              "    <tr>\n",
              "      <th>3</th>\n",
              "      <td>7.7</td>\n",
              "      <td>-73.987130</td>\n",
              "      <td>40.733143</td>\n",
              "      <td>-73.991567</td>\n",
              "      <td>40.758092</td>\n",
              "      <td>1.0</td>\n",
              "      <td>2012</td>\n",
              "      <td>4</td>\n",
              "      <td>2</td>\n",
              "      <td>1</td>\n",
              "    </tr>\n",
              "    <tr>\n",
              "      <th>4</th>\n",
              "      <td>5.3</td>\n",
              "      <td>-73.968095</td>\n",
              "      <td>40.768008</td>\n",
              "      <td>-73.956655</td>\n",
              "      <td>40.783762</td>\n",
              "      <td>1.0</td>\n",
              "      <td>2010</td>\n",
              "      <td>3</td>\n",
              "      <td>2</td>\n",
              "      <td>2</td>\n",
              "    </tr>\n",
              "  </tbody>\n",
              "</table>\n",
              "</div>"
            ],
            "text/plain": [
              "   fare_amount  pickup_longitude  ...  pickup_days  pickup_session\n",
              "0          4.5        -73.844311  ...            2               2\n",
              "1         16.9        -74.016048  ...            2               2\n",
              "2          5.7        -73.982738  ...            2               1\n",
              "3          7.7        -73.987130  ...            2               1\n",
              "4          5.3        -73.968095  ...            2               2\n",
              "\n",
              "[5 rows x 10 columns]"
            ]
          },
          "metadata": {
            "tags": []
          },
          "execution_count": 69
        }
      ]
    },
    {
      "cell_type": "markdown",
      "metadata": {
        "id": "QEqGml6SU1F0",
        "colab_type": "text"
      },
      "source": [
        "**Converting all the latitude and longitude values to datatype float.**"
      ]
    },
    {
      "cell_type": "code",
      "metadata": {
        "id": "jOiOOGlmxKMc",
        "colab_type": "code",
        "colab": {}
      },
      "source": [
        "train[\"pickup_longitude\"] = train[\"pickup_longitude\"].astype(float)\n",
        "train[\"pickup_latitude\"] = train[\"pickup_latitude\"].astype(float)\n",
        "train[\"dropoff_longitude\"] = train[\"dropoff_longitude\"].astype(float)\n",
        "train[\"dropoff_latitude \t\"] = train[\"dropoff_latitude\"].astype(float)\n"
      ],
      "execution_count": 0,
      "outputs": []
    },
    {
      "cell_type": "markdown",
      "metadata": {
        "id": "L7vC8IeC6_pl",
        "colab_type": "text"
      },
      "source": [
        "# Using Haversine Method to calculate distance using co-ordinates (Latitude and Longitude)\n"
      ]
    },
    {
      "cell_type": "code",
      "metadata": {
        "id": "XUXf3CHoo6ho",
        "colab_type": "code",
        "colab": {}
      },
      "source": [
        "from math import radians, cos, sin, asin, sqrt\n",
        "def haversine(lon1, lat1, lon2, lat2):\n",
        "    \n",
        "    #Calculate the great circle distance between two points \n",
        "    #on the earth (specified in decimal degrees)\n",
        "    \n",
        "    # convert decimal degrees to radians \n",
        "    lon1, lat1, lon2, lat2 = map(radians, [lon1, lat1, lon2, lat2])\n",
        "    # haversine formula \n",
        "    dlon = lon2 - lon1 \n",
        "    dlat = lat2 - lat1 \n",
        "    a = sin(dlat/2)**2 + cos(lat1) * cos(lat2) * sin(dlon/2)**2\n",
        "    c = 2 * asin(sqrt(a)) \n",
        "    # Radius of earth in kilometers is 6371\n",
        "    km = 6371* c\n",
        "    return km"
      ],
      "execution_count": 0,
      "outputs": []
    },
    {
      "cell_type": "code",
      "metadata": {
        "id": "VZ-hVYP7V_mk",
        "colab_type": "code",
        "colab": {}
      },
      "source": [
        "train.reset_index(drop=True, inplace=True)\n",
        "train['dist_travelled_in_km'] = train.apply(lambda x: haversine(x['pickup_longitude'], x['pickup_latitude'], x['dropoff_longitude'], x['dropoff_latitude']), axis=1)\n",
        "train.reset_index(drop=True, inplace=True)"
      ],
      "execution_count": 0,
      "outputs": []
    },
    {
      "cell_type": "code",
      "metadata": {
        "id": "W94lI311z8k-",
        "colab_type": "code",
        "outputId": "69310213-3d8c-4fc9-9fb8-f6c888d24161",
        "colab": {
          "base_uri": "https://localhost:8080/",
          "height": 173
        }
      },
      "source": [
        "train[\"dist_travelled_in_km\"].describe()"
      ],
      "execution_count": 73,
      "outputs": [
        {
          "output_type": "execute_result",
          "data": {
            "text/plain": [
              "count    15981.000000\n",
              "mean        15.011891\n",
              "std        310.962107\n",
              "min          0.000000\n",
              "25%          1.214832\n",
              "50%          2.125945\n",
              "75%          3.859133\n",
              "max       8667.542104\n",
              "Name: dist_travelled_in_km, dtype: float64"
            ]
          },
          "metadata": {
            "tags": []
          },
          "execution_count": 73
        }
      ]
    },
    {
      "cell_type": "code",
      "metadata": {
        "id": "7EBbKDIj1ctQ",
        "colab_type": "code",
        "colab": {}
      },
      "source": [
        "train = train.drop(train[train['dist_travelled_in_km']<= 0.025].index, axis=0) # drop the variable which have dist_travelled_in_km <= 0.025"
      ],
      "execution_count": 0,
      "outputs": []
    },
    {
      "cell_type": "code",
      "metadata": {
        "id": "LA7pJTuQbitb",
        "colab_type": "code",
        "outputId": "1b4566f5-7252-410c-d8cf-3d2968850a32",
        "colab": {
          "base_uri": "https://localhost:8080/",
          "height": 243
        }
      },
      "source": [
        "train.isnull().sum()"
      ],
      "execution_count": 75,
      "outputs": [
        {
          "output_type": "execute_result",
          "data": {
            "text/plain": [
              "fare_amount             0\n",
              "pickup_longitude        0\n",
              "pickup_latitude         0\n",
              "dropoff_longitude       0\n",
              "dropoff_latitude        0\n",
              "passenger_count         0\n",
              "year                    0\n",
              "month                   0\n",
              "pickup_days             0\n",
              "pickup_session          0\n",
              "dropoff_latitude \\t     0\n",
              "dist_travelled_in_km    0\n",
              "dtype: int64"
            ]
          },
          "metadata": {
            "tags": []
          },
          "execution_count": 75
        }
      ]
    },
    {
      "cell_type": "code",
      "metadata": {
        "id": "WyYjWVc-yFpA",
        "colab_type": "code",
        "outputId": "9a5e7ff6-0a8e-48b9-efd3-e30ee21229b5",
        "colab": {
          "base_uri": "https://localhost:8080/",
          "height": 301
        }
      },
      "source": [
        "train[\"passenger_count\"] = train[\"passenger_count\"].astype(int)\n",
        "sns.boxplot(x=train['dist_travelled_in_km'],data=train,orient='h')"
      ],
      "execution_count": 76,
      "outputs": [
        {
          "output_type": "execute_result",
          "data": {
            "text/plain": [
              "<matplotlib.axes._subplots.AxesSubplot at 0x7ff891c04278>"
            ]
          },
          "metadata": {
            "tags": []
          },
          "execution_count": 76
        },
        {
          "output_type": "display_data",
          "data": {
            "image/png": "[encoded data removed]",
            "text/plain": [
              "<Figure size 432x288 with 1 Axes>"
            ]
          },
          "metadata": {
            "tags": []
          }
        }
      ]
    },
    {
      "cell_type": "markdown",
      "metadata": {
        "id": "KO2ohhQe8i38",
        "colab_type": "text"
      },
      "source": [
        "**Removing Distance Outliers**"
      ]
    },
    {
      "cell_type": "code",
      "metadata": {
        "id": "XfM_kpx6rOHY",
        "colab_type": "code",
        "colab": {}
      },
      "source": [
        "q1 =  train['dist_travelled_in_km'].quantile(0.25)\n",
        "q3 = train['dist_travelled_in_km'].quantile(0.75)\n",
        "IQR_dist = q3 - q1"
      ],
      "execution_count": 0,
      "outputs": []
    },
    {
      "cell_type": "code",
      "metadata": {
        "id": "IOA2C3knVvFa",
        "colab_type": "code",
        "outputId": "9bf629e4-7e86-4e11-b87c-6168919e3ef2",
        "colab": {
          "base_uri": "https://localhost:8080/",
          "height": 34
        }
      },
      "source": [
        "(train[(train['dist_travelled_in_km'] < Q1-1.5*IQR ) | (train['dist_travelled_in_km'] > Q3+1.5*IQR)]['dist_travelled_in_km']).shape"
      ],
      "execution_count": 78,
      "outputs": [
        {
          "output_type": "execute_result",
          "data": {
            "text/plain": [
              "(64,)"
            ]
          },
          "metadata": {
            "tags": []
          },
          "execution_count": 78
        }
      ]
    },
    {
      "cell_type": "code",
      "metadata": {
        "colab_type": "code",
        "id": "iM5bqll-VdG4",
        "colab": {}
      },
      "source": [
        "maximum_dist = q3+1.5*IQR_dist\n",
        "minimum_dist = q1-1.5*IQR_dist"
      ],
      "execution_count": 0,
      "outputs": []
    },
    {
      "cell_type": "code",
      "metadata": {
        "id": "W71l1Ro7c75C",
        "colab_type": "code",
        "outputId": "9c60043f-7f9f-4a0b-9d52-7be025b2137b",
        "colab": {
          "base_uri": "https://localhost:8080/",
          "height": 34
        }
      },
      "source": [
        "maximum_dist, minimum_dist"
      ],
      "execution_count": 80,
      "outputs": [
        {
          "output_type": "execute_result",
          "data": {
            "text/plain": [
              "(7.976026760863731, -2.7232802834688297)"
            ]
          },
          "metadata": {
            "tags": []
          },
          "execution_count": 80
        }
      ]
    },
    {
      "cell_type": "code",
      "metadata": {
        "colab_type": "code",
        "id": "pfywIOVOVdHf",
        "colab": {}
      },
      "source": [
        "train = train.drop(train[train.loc[:,\"dist_travelled_in_km\"]< minimum_dist].index)\n",
        "\n",
        "\n",
        "train = train.drop(train[train.loc[:,\"dist_travelled_in_km\"]> maximum_dist].index)"
      ],
      "execution_count": 0,
      "outputs": []
    },
    {
      "cell_type": "code",
      "metadata": {
        "id": "e8Qa5fACz6yt",
        "colab_type": "code",
        "outputId": "71251829-7546-4fd7-f5c3-e0aa045a8552",
        "colab": {
          "base_uri": "https://localhost:8080/",
          "height": 173
        }
      },
      "source": [
        "train[\"fare_amount\"].describe()\n"
      ],
      "execution_count": 82,
      "outputs": [
        {
          "output_type": "execute_result",
          "data": {
            "text/plain": [
              "count    14119.000000\n",
              "mean         8.784186\n",
              "std          3.922506\n",
              "min          0.010000\n",
              "25%          5.700000\n",
              "50%          8.000000\n",
              "75%         10.900000\n",
              "max         22.100000\n",
              "Name: fare_amount, dtype: float64"
            ]
          },
          "metadata": {
            "tags": []
          },
          "execution_count": 82
        }
      ]
    },
    {
      "cell_type": "code",
      "metadata": {
        "id": "U01CNpOyLW1G",
        "colab_type": "code",
        "outputId": "ea95a889-e8f7-4c0d-b295-3e59daa6b984",
        "colab": {
          "base_uri": "https://localhost:8080/",
          "height": 243
        }
      },
      "source": [
        "train.isnull().sum()"
      ],
      "execution_count": 83,
      "outputs": [
        {
          "output_type": "execute_result",
          "data": {
            "text/plain": [
              "fare_amount             0\n",
              "pickup_longitude        0\n",
              "pickup_latitude         0\n",
              "dropoff_longitude       0\n",
              "dropoff_latitude        0\n",
              "passenger_count         0\n",
              "year                    0\n",
              "month                   0\n",
              "pickup_days             0\n",
              "pickup_session          0\n",
              "dropoff_latitude \\t     0\n",
              "dist_travelled_in_km    0\n",
              "dtype: int64"
            ]
          },
          "metadata": {
            "tags": []
          },
          "execution_count": 83
        }
      ]
    },
    {
      "cell_type": "code",
      "metadata": {
        "id": "dOUsJ4iXIEZe",
        "colab_type": "code",
        "outputId": "1c55ee9a-e0d1-4ab1-8c1a-cba858766e84",
        "colab": {
          "base_uri": "https://localhost:8080/",
          "height": 173
        }
      },
      "source": [
        "train[\"dist_travelled_in_km\"].describe()"
      ],
      "execution_count": 84,
      "outputs": [
        {
          "output_type": "execute_result",
          "data": {
            "text/plain": [
              "count    14119.000000\n",
              "mean         2.481007\n",
              "std          1.668775\n",
              "min          0.028489\n",
              "25%          1.224414\n",
              "50%          2.006737\n",
              "75%          3.307953\n",
              "max          7.974208\n",
              "Name: dist_travelled_in_km, dtype: float64"
            ]
          },
          "metadata": {
            "tags": []
          },
          "execution_count": 84
        }
      ]
    },
    {
      "cell_type": "code",
      "metadata": {
        "id": "hOxPAabYf4pN",
        "colab_type": "code",
        "outputId": "5fe0f099-11e7-4f5e-abbe-dd0c6081d8fd",
        "colab": {
          "base_uri": "https://localhost:8080/",
          "height": 34
        }
      },
      "source": [
        "train.shape"
      ],
      "execution_count": 85,
      "outputs": [
        {
          "output_type": "execute_result",
          "data": {
            "text/plain": [
              "(14119, 12)"
            ]
          },
          "metadata": {
            "tags": []
          },
          "execution_count": 85
        }
      ]
    },
    {
      "cell_type": "code",
      "metadata": {
        "id": "YvltDxqNgd4K",
        "colab_type": "code",
        "outputId": "cfc78d0d-4f8c-4025-84a2-3859745fafb4",
        "colab": {
          "base_uri": "https://localhost:8080/",
          "height": 243
        }
      },
      "source": [
        "train.isnull().sum()"
      ],
      "execution_count": 86,
      "outputs": [
        {
          "output_type": "execute_result",
          "data": {
            "text/plain": [
              "fare_amount             0\n",
              "pickup_longitude        0\n",
              "pickup_latitude         0\n",
              "dropoff_longitude       0\n",
              "dropoff_latitude        0\n",
              "passenger_count         0\n",
              "year                    0\n",
              "month                   0\n",
              "pickup_days             0\n",
              "pickup_session          0\n",
              "dropoff_latitude \\t     0\n",
              "dist_travelled_in_km    0\n",
              "dtype: int64"
            ]
          },
          "metadata": {
            "tags": []
          },
          "execution_count": 86
        }
      ]
    },
    {
      "cell_type": "code",
      "metadata": {
        "id": "7BQ1mrvi-qT_",
        "colab_type": "code",
        "colab": {}
      },
      "source": [
        "train.reset_index(drop=True, inplace=True)"
      ],
      "execution_count": 0,
      "outputs": []
    },
    {
      "cell_type": "code",
      "metadata": {
        "id": "6fJZ9xfc-zWd",
        "colab_type": "code",
        "outputId": "820b0a8c-03af-4d0c-a304-61f0ebc7808c",
        "colab": {
          "base_uri": "https://localhost:8080/",
          "height": 226
        }
      },
      "source": [
        "train.head()"
      ],
      "execution_count": 88,
      "outputs": [
        {
          "output_type": "execute_result",
          "data": {
            "text/html": [
              "<div>\n",
              "<style scoped>\n",
              "    .dataframe tbody tr th:only-of-type {\n",
              "        vertical-align: middle;\n",
              "    }\n",
              "\n",
              "    .dataframe tbody tr th {\n",
              "        vertical-align: top;\n",
              "    }\n",
              "\n",
              "    .dataframe thead th {\n",
              "        text-align: right;\n",
              "    }\n",
              "</style>\n",
              "<table border=\"1\" class=\"dataframe\">\n",
              "  <thead>\n",
              "    <tr style=\"text-align: right;\">\n",
              "      <th></th>\n",
              "      <th>fare_amount</th>\n",
              "      <th>pickup_longitude</th>\n",
              "      <th>pickup_latitude</th>\n",
              "      <th>dropoff_longitude</th>\n",
              "      <th>dropoff_latitude</th>\n",
              "      <th>passenger_count</th>\n",
              "      <th>year</th>\n",
              "      <th>month</th>\n",
              "      <th>pickup_days</th>\n",
              "      <th>pickup_session</th>\n",
              "      <th>dropoff_latitude</th>\n",
              "      <th>dist_travelled_in_km</th>\n",
              "    </tr>\n",
              "  </thead>\n",
              "  <tbody>\n",
              "    <tr>\n",
              "      <th>0</th>\n",
              "      <td>4.5</td>\n",
              "      <td>-73.844311</td>\n",
              "      <td>40.721319</td>\n",
              "      <td>-73.841610</td>\n",
              "      <td>40.712278</td>\n",
              "      <td>1</td>\n",
              "      <td>2009</td>\n",
              "      <td>6</td>\n",
              "      <td>2</td>\n",
              "      <td>2</td>\n",
              "      <td>40.712278</td>\n",
              "      <td>1.030764</td>\n",
              "    </tr>\n",
              "    <tr>\n",
              "      <th>1</th>\n",
              "      <td>5.7</td>\n",
              "      <td>-73.982738</td>\n",
              "      <td>40.761270</td>\n",
              "      <td>-73.991242</td>\n",
              "      <td>40.750562</td>\n",
              "      <td>2</td>\n",
              "      <td>2011</td>\n",
              "      <td>8</td>\n",
              "      <td>2</td>\n",
              "      <td>1</td>\n",
              "      <td>40.750562</td>\n",
              "      <td>1.389525</td>\n",
              "    </tr>\n",
              "    <tr>\n",
              "      <th>2</th>\n",
              "      <td>7.7</td>\n",
              "      <td>-73.987130</td>\n",
              "      <td>40.733143</td>\n",
              "      <td>-73.991567</td>\n",
              "      <td>40.758092</td>\n",
              "      <td>1</td>\n",
              "      <td>2012</td>\n",
              "      <td>4</td>\n",
              "      <td>2</td>\n",
              "      <td>1</td>\n",
              "      <td>40.758092</td>\n",
              "      <td>2.799270</td>\n",
              "    </tr>\n",
              "    <tr>\n",
              "      <th>3</th>\n",
              "      <td>5.3</td>\n",
              "      <td>-73.968095</td>\n",
              "      <td>40.768008</td>\n",
              "      <td>-73.956655</td>\n",
              "      <td>40.783762</td>\n",
              "      <td>1</td>\n",
              "      <td>2010</td>\n",
              "      <td>3</td>\n",
              "      <td>2</td>\n",
              "      <td>2</td>\n",
              "      <td>40.783762</td>\n",
              "      <td>1.999157</td>\n",
              "    </tr>\n",
              "    <tr>\n",
              "      <th>4</th>\n",
              "      <td>12.1</td>\n",
              "      <td>-74.000964</td>\n",
              "      <td>40.731630</td>\n",
              "      <td>-73.972892</td>\n",
              "      <td>40.758233</td>\n",
              "      <td>1</td>\n",
              "      <td>2011</td>\n",
              "      <td>1</td>\n",
              "      <td>2</td>\n",
              "      <td>2</td>\n",
              "      <td>40.758233</td>\n",
              "      <td>3.787239</td>\n",
              "    </tr>\n",
              "  </tbody>\n",
              "</table>\n",
              "</div>"
            ],
            "text/plain": [
              "   fare_amount  pickup_longitude  ...  dropoff_latitude \\t  dist_travelled_in_km\n",
              "0          4.5        -73.844311  ...            40.712278              1.030764\n",
              "1          5.7        -73.982738  ...            40.750562              1.389525\n",
              "2          7.7        -73.987130  ...            40.758092              2.799270\n",
              "3          5.3        -73.968095  ...            40.783762              1.999157\n",
              "4         12.1        -74.000964  ...            40.758233              3.787239\n",
              "\n",
              "[5 rows x 12 columns]"
            ]
          },
          "metadata": {
            "tags": []
          },
          "execution_count": 88
        }
      ]
    },
    {
      "cell_type": "code",
      "metadata": {
        "id": "OrVF6cgwN75r",
        "colab_type": "code",
        "colab": {}
      },
      "source": [
        "train = train.filter([\"fare_amount\" ,\"pickup_longitude\", \t\"pickup_latitude\", \"dropoff_longitude\", \"dropoff_latitude\", \"passenger_count\", \"year\" ,\"pickup_days\",\"month\" ,\"pickup_session\",\"dist_travelled_in_km\"], axis = 1)"
      ],
      "execution_count": 0,
      "outputs": []
    },
    {
      "cell_type": "code",
      "metadata": {
        "id": "5xmzF78oj3r4",
        "colab_type": "code",
        "outputId": "c7c0b341-117c-4aa5-8293-f19d7e80927a",
        "colab": {
          "base_uri": "https://localhost:8080/",
          "height": 226
        }
      },
      "source": [
        "train.head()"
      ],
      "execution_count": 90,
      "outputs": [
        {
          "output_type": "execute_result",
          "data": {
            "text/html": [
              "<div>\n",
              "<style scoped>\n",
              "    .dataframe tbody tr th:only-of-type {\n",
              "        vertical-align: middle;\n",
              "    }\n",
              "\n",
              "    .dataframe tbody tr th {\n",
              "        vertical-align: top;\n",
              "    }\n",
              "\n",
              "    .dataframe thead th {\n",
              "        text-align: right;\n",
              "    }\n",
              "</style>\n",
              "<table border=\"1\" class=\"dataframe\">\n",
              "  <thead>\n",
              "    <tr style=\"text-align: right;\">\n",
              "      <th></th>\n",
              "      <th>fare_amount</th>\n",
              "      <th>pickup_longitude</th>\n",
              "      <th>pickup_latitude</th>\n",
              "      <th>dropoff_longitude</th>\n",
              "      <th>dropoff_latitude</th>\n",
              "      <th>passenger_count</th>\n",
              "      <th>year</th>\n",
              "      <th>pickup_days</th>\n",
              "      <th>month</th>\n",
              "      <th>pickup_session</th>\n",
              "      <th>dist_travelled_in_km</th>\n",
              "    </tr>\n",
              "  </thead>\n",
              "  <tbody>\n",
              "    <tr>\n",
              "      <th>0</th>\n",
              "      <td>4.5</td>\n",
              "      <td>-73.844311</td>\n",
              "      <td>40.721319</td>\n",
              "      <td>-73.841610</td>\n",
              "      <td>40.712278</td>\n",
              "      <td>1</td>\n",
              "      <td>2009</td>\n",
              "      <td>2</td>\n",
              "      <td>6</td>\n",
              "      <td>2</td>\n",
              "      <td>1.030764</td>\n",
              "    </tr>\n",
              "    <tr>\n",
              "      <th>1</th>\n",
              "      <td>5.7</td>\n",
              "      <td>-73.982738</td>\n",
              "      <td>40.761270</td>\n",
              "      <td>-73.991242</td>\n",
              "      <td>40.750562</td>\n",
              "      <td>2</td>\n",
              "      <td>2011</td>\n",
              "      <td>2</td>\n",
              "      <td>8</td>\n",
              "      <td>1</td>\n",
              "      <td>1.389525</td>\n",
              "    </tr>\n",
              "    <tr>\n",
              "      <th>2</th>\n",
              "      <td>7.7</td>\n",
              "      <td>-73.987130</td>\n",
              "      <td>40.733143</td>\n",
              "      <td>-73.991567</td>\n",
              "      <td>40.758092</td>\n",
              "      <td>1</td>\n",
              "      <td>2012</td>\n",
              "      <td>2</td>\n",
              "      <td>4</td>\n",
              "      <td>1</td>\n",
              "      <td>2.799270</td>\n",
              "    </tr>\n",
              "    <tr>\n",
              "      <th>3</th>\n",
              "      <td>5.3</td>\n",
              "      <td>-73.968095</td>\n",
              "      <td>40.768008</td>\n",
              "      <td>-73.956655</td>\n",
              "      <td>40.783762</td>\n",
              "      <td>1</td>\n",
              "      <td>2010</td>\n",
              "      <td>2</td>\n",
              "      <td>3</td>\n",
              "      <td>2</td>\n",
              "      <td>1.999157</td>\n",
              "    </tr>\n",
              "    <tr>\n",
              "      <th>4</th>\n",
              "      <td>12.1</td>\n",
              "      <td>-74.000964</td>\n",
              "      <td>40.731630</td>\n",
              "      <td>-73.972892</td>\n",
              "      <td>40.758233</td>\n",
              "      <td>1</td>\n",
              "      <td>2011</td>\n",
              "      <td>2</td>\n",
              "      <td>1</td>\n",
              "      <td>2</td>\n",
              "      <td>3.787239</td>\n",
              "    </tr>\n",
              "  </tbody>\n",
              "</table>\n",
              "</div>"
            ],
            "text/plain": [
              "   fare_amount  pickup_longitude  ...  pickup_session  dist_travelled_in_km\n",
              "0          4.5        -73.844311  ...               2              1.030764\n",
              "1          5.7        -73.982738  ...               1              1.389525\n",
              "2          7.7        -73.987130  ...               1              2.799270\n",
              "3          5.3        -73.968095  ...               2              1.999157\n",
              "4         12.1        -74.000964  ...               2              3.787239\n",
              "\n",
              "[5 rows x 11 columns]"
            ]
          },
          "metadata": {
            "tags": []
          },
          "execution_count": 90
        }
      ]
    },
    {
      "cell_type": "markdown",
      "metadata": {
        "id": "PcqNbBq3X5Co",
        "colab_type": "text"
      },
      "source": [
        "# Feature Selection "
      ]
    },
    {
      "cell_type": "markdown",
      "metadata": {
        "id": "6QH5JzT6YF0-",
        "colab_type": "text"
      },
      "source": [
        "**Checking VIF for Multicolinerity**\n"
      ]
    },
    {
      "cell_type": "code",
      "metadata": {
        "id": "kXNd9KlxoZWX",
        "colab_type": "code",
        "colab": {}
      },
      "source": [
        "## Converting categorical values to int\n",
        "train[\"passenger_count\"] = train[\"passenger_count\"].astype(int)\n",
        "train[\"year\"] = train[\"year\"].astype(int)\n",
        "train[\"month\"] = train[\"month\"].astype(int)\n",
        "train[\"pickup_days\"] = train[\"pickup_days\"].astype(int)\n",
        "train[\"pickup_session\"] = train[\"pickup_session\"].astype(int)"
      ],
      "execution_count": 0,
      "outputs": []
    },
    {
      "cell_type": "code",
      "metadata": {
        "colab_type": "code",
        "id": "GIUd6qQroZ3C",
        "outputId": "d9969c57-7729-4c1a-897a-645c58f70a24",
        "colab": {
          "base_uri": "https://localhost:8080/",
          "height": 280
        }
      },
      "source": [
        "from statsmodels.stats.outliers_influence import variance_inflation_factor\n",
        "from statsmodels.tools.tools import add_constant\n",
        "\n",
        "VIF_df = add_constant(train.iloc[:,1:11])\n",
        "pd.Series([variance_inflation_factor(VIF_df.values, i) \n",
        "               for i in range(VIF_df.shape[1])], \n",
        "              index=VIF_df.columns)"
      ],
      "execution_count": 92,
      "outputs": [
        {
          "output_type": "stream",
          "text": [
            "/usr/local/lib/python3.6/dist-packages/numpy/core/fromnumeric.py:2389: FutureWarning: Method .ptp is deprecated and will be removed in a future version. Use numpy.ptp instead.\n",
            "  return ptp(axis=axis, out=out, **kwargs)\n"
          ],
          "name": "stderr"
        },
        {
          "output_type": "execute_result",
          "data": {
            "text/plain": [
              "const                   1.190010e+06\n",
              "pickup_longitude        2.257470e+04\n",
              "pickup_latitude         1.758946e+04\n",
              "dropoff_longitude       2.255091e+04\n",
              "dropoff_latitude        1.759864e+04\n",
              "passenger_count         1.000590e+00\n",
              "year                    1.014183e+00\n",
              "pickup_days             1.001064e+00\n",
              "month                   1.014201e+00\n",
              "pickup_session          1.002957e+00\n",
              "dist_travelled_in_km    1.022340e+00\n",
              "dtype: float64"
            ]
          },
          "metadata": {
            "tags": []
          },
          "execution_count": 92
        }
      ]
    },
    {
      "cell_type": "markdown",
      "metadata": {
        "id": "t0l1DjJja0hg",
        "colab_type": "text"
      },
      "source": [
        "**Correlation Analysis**"
      ]
    },
    {
      "cell_type": "code",
      "metadata": {
        "id": "kmZJrcjZXYFI",
        "colab_type": "code",
        "colab": {}
      },
      "source": [
        "cat_var = (\"passenger_count\", \"year\", \"pickup_days\", \"month\", \"pickup_session\")\n",
        "cnames = [\"fare_amount\",\"pickup_longitude\",\"pickup_latitude\",\"dist_travelled_in_km\", \"dropoff_longitude\", \"dropoff_latitude\"]\n",
        "df_corr = train.loc[:,cnames]"
      ],
      "execution_count": 0,
      "outputs": []
    },
    {
      "cell_type": "code",
      "metadata": {
        "colab_type": "code",
        "outputId": "4afd940f-8bca-4ba0-e1f1-c6187d40629f",
        "id": "-I2Uoys4oZ4Q",
        "colab": {
          "base_uri": "https://localhost:8080/",
          "height": 433
        }
      },
      "source": [
        "f , ax = plt.subplots(figsize = (10, 5))\n",
        "corr = df_corr.corr()\n",
        "sns.heatmap(corr, mask=np.zeros_like(corr, dtype=np.bool), cmap=sns.diverging_palette(220, 10, as_cmap=True),\n",
        "            square=True, ax=ax,annot=True)"
      ],
      "execution_count": 94,
      "outputs": [
        {
          "output_type": "execute_result",
          "data": {
            "text/plain": [
              "<matplotlib.axes._subplots.AxesSubplot at 0x7ff891aca208>"
            ]
          },
          "metadata": {
            "tags": []
          },
          "execution_count": 94
        },
        {
          "output_type": "display_data",
          "data": {
            "image/png": "[encoded data removed]",
            "text/plain": [
              "<Figure size 720x360 with 2 Axes>"
            ]
          },
          "metadata": {
            "tags": []
          }
        }
      ]
    },
    {
      "cell_type": "code",
      "metadata": {
        "id": "fyUuL-FmhMZz",
        "colab_type": "code",
        "colab": {}
      },
      "source": [
        "# As we can clearly see that pickup_latitude and pickup_longitude are highly negatively correlated.\n",
        "# Pickup_latitude is highly positively correlated dropoff_latitude\n",
        "# Dropoff_longitude is highly correlated with pickup_longitude.\n",
        "\n",
        "## So we remove three variables from these four i.e. pickup_latitude, pickup_longitude, dropoff_latitude, dropoff_longitude.\n",
        "## And we should preserve only one from them.\n",
        "# So, we are preserving dropoff_longitude. Because of its higher correlation value with fare_amount and distance\n",
        "\n",
        "del train['dropoff_longitude']\n",
        "del train['dropoff_latitude']\n",
        "#del train['pickup_longitude']\n",
        "#del train['pickup_latitude']"
      ],
      "execution_count": 0,
      "outputs": []
    },
    {
      "cell_type": "markdown",
      "metadata": {
        "id": "_ZztYWU8QyM0",
        "colab_type": "text"
      },
      "source": [
        "# ANOVA Test for checking dependency."
      ]
    },
    {
      "cell_type": "code",
      "metadata": {
        "id": "lSOxRnyz53HH",
        "colab_type": "code",
        "outputId": "5d56e43c-4f7f-4db9-c7c2-f8aec6d0d814",
        "colab": {
          "base_uri": "https://localhost:8080/",
          "height": 278
        }
      },
      "source": [
        "import statsmodels.api as sm\n",
        "\n",
        "from statsmodels.formula.api import ols\n",
        "\n",
        "for i in cat_var:\n",
        "    mod = ols('fare_amount' + '~' + i, data = train).fit()\n",
        "    aov_table = sm.stats.anova_lm(mod, typ = 2)\n",
        "    print(aov_table)\n",
        "    "
      ],
      "execution_count": 96,
      "outputs": [
        {
          "output_type": "stream",
          "text": [
            "                        sum_sq       df         F    PR(>F)\n",
            "passenger_count      68.028414      1.0  4.422507  0.035486\n",
            "Residual         217152.223402  14117.0       NaN       NaN\n",
            "                 sum_sq       df           F        PR(>F)\n",
            "year        5601.154138      1.0  373.650081  3.454038e-82\n",
            "Residual  211619.097679  14117.0         NaN           NaN\n",
            "                    sum_sq       df         F    PR(>F)\n",
            "pickup_days      35.756122      1.0  2.324149  0.127402\n",
            "Residual     217184.495695  14117.0       NaN       NaN\n",
            "                 sum_sq       df        F    PR(>F)\n",
            "month        143.211344      1.0  9.31335  0.002279\n",
            "Residual  217077.040473  14117.0      NaN       NaN\n",
            "                       sum_sq       df       F    PR(>F)\n",
            "pickup_session       0.350823      1.0  0.0228  0.879981\n",
            "Residual        217219.900993  14117.0     NaN       NaN\n"
          ],
          "name": "stdout"
        }
      ]
    },
    {
      "cell_type": "code",
      "metadata": {
        "id": "YYRsY7GUReK7",
        "colab_type": "code",
        "colab": {}
      },
      "source": [
        "# del train['passenger_count']\n",
        "del train['pickup_session']\n",
        "del train[\"pickup_days\"]"
      ],
      "execution_count": 0,
      "outputs": []
    },
    {
      "cell_type": "code",
      "metadata": {
        "id": "nknfZ5QlDcPc",
        "colab_type": "code",
        "colab": {
          "base_uri": "https://localhost:8080/",
          "height": 547
        },
        "outputId": "e26ba27e-3ee1-4d48-ba80-acaf97fbaa04"
      },
      "source": [
        "plt.hist(train[\"dist_travelled_in_km\"], bins = \"auto\") # As it is left skewed, we'll normalise all numeric variable in same range"
      ],
      "execution_count": 98,
      "outputs": [
        {
          "output_type": "execute_result",
          "data": {
            "text/plain": [
              "(array([ 75., 135., 291., 533., 709., 846., 877., 876., 828., 696., 716.,\n",
              "        645., 591., 521., 533., 455., 417., 380., 335., 298., 284., 288.,\n",
              "        220., 211., 186., 198., 184., 152., 156., 142., 148., 103., 110.,\n",
              "        106.,  88., 108.,  86.,  82.,  83.,  76.,  72.,  46.,  47.,  55.,\n",
              "         48.,  46.,  37.]),\n",
              " array([0.02848932, 0.19754717, 0.36660502, 0.53566287, 0.70472071,\n",
              "        0.87377856, 1.04283641, 1.21189426, 1.3809521 , 1.55000995,\n",
              "        1.7190678 , 1.88812564, 2.05718349, 2.22624134, 2.39529919,\n",
              "        2.56435703, 2.73341488, 2.90247273, 3.07153058, 3.24058842,\n",
              "        3.40964627, 3.57870412, 3.74776196, 3.91681981, 4.08587766,\n",
              "        4.25493551, 4.42399335, 4.5930512 , 4.76210905, 4.9311669 ,\n",
              "        5.10022474, 5.26928259, 5.43834044, 5.60739829, 5.77645613,\n",
              "        5.94551398, 6.11457183, 6.28362967, 6.45268752, 6.62174537,\n",
              "        6.79080322, 6.95986106, 7.12891891, 7.29797676, 7.46703461,\n",
              "        7.63609245, 7.8051503 , 7.97420815]),\n",
              " <a list of 47 Patch objects>)"
            ]
          },
          "metadata": {
            "tags": []
          },
          "execution_count": 98
        },
        {
          "output_type": "display_data",
          "data": {
            "image/png": "[encoded data removed]",
            "text/plain": [
              "<Figure size 432x288 with 1 Axes>"
            ]
          },
          "metadata": {
            "tags": []
          }
        }
      ]
    },
    {
      "cell_type": "code",
      "metadata": {
        "id": "xdwZNhtZyjeq",
        "colab_type": "code",
        "outputId": "91461d44-5f89-4205-e359-ecdd91bb9c9d",
        "colab": {
          "base_uri": "https://localhost:8080/",
          "height": 69
        }
      },
      "source": [
        "#Normalisation\n",
        "c_names = [\"dist_travelled_in_km\", \"pickup_longitude\", \"pickup_latitude\"]\n",
        "for i in c_names:\n",
        "  print (i)\n",
        "  train[i]= (train[i] - train[i].min())/(train[i].max() - train[i].min())"
      ],
      "execution_count": 99,
      "outputs": [
        {
          "output_type": "stream",
          "text": [
            "dist_travelled_in_km\n",
            "pickup_longitude\n",
            "pickup_latitude\n"
          ],
          "name": "stdout"
        }
      ]
    },
    {
      "cell_type": "code",
      "metadata": {
        "id": "4uiTXvSyxUTb",
        "colab_type": "code",
        "outputId": "1dc8dc3b-dac4-4763-b64c-506a297dac26",
        "colab": {
          "base_uri": "https://localhost:8080/",
          "height": 144
        }
      },
      "source": [
        "train.head(3)"
      ],
      "execution_count": 100,
      "outputs": [
        {
          "output_type": "execute_result",
          "data": {
            "text/html": [
              "<div>\n",
              "<style scoped>\n",
              "    .dataframe tbody tr th:only-of-type {\n",
              "        vertical-align: middle;\n",
              "    }\n",
              "\n",
              "    .dataframe tbody tr th {\n",
              "        vertical-align: top;\n",
              "    }\n",
              "\n",
              "    .dataframe thead th {\n",
              "        text-align: right;\n",
              "    }\n",
              "</style>\n",
              "<table border=\"1\" class=\"dataframe\">\n",
              "  <thead>\n",
              "    <tr style=\"text-align: right;\">\n",
              "      <th></th>\n",
              "      <th>fare_amount</th>\n",
              "      <th>pickup_longitude</th>\n",
              "      <th>pickup_latitude</th>\n",
              "      <th>passenger_count</th>\n",
              "      <th>year</th>\n",
              "      <th>month</th>\n",
              "      <th>dist_travelled_in_km</th>\n",
              "    </tr>\n",
              "  </thead>\n",
              "  <tbody>\n",
              "    <tr>\n",
              "      <th>0</th>\n",
              "      <td>4.5</td>\n",
              "      <td>0.003346</td>\n",
              "      <td>0.997267</td>\n",
              "      <td>1</td>\n",
              "      <td>2009</td>\n",
              "      <td>6</td>\n",
              "      <td>0.126140</td>\n",
              "    </tr>\n",
              "    <tr>\n",
              "      <th>1</th>\n",
              "      <td>5.7</td>\n",
              "      <td>0.002143</td>\n",
              "      <td>0.997615</td>\n",
              "      <td>2</td>\n",
              "      <td>2011</td>\n",
              "      <td>8</td>\n",
              "      <td>0.171292</td>\n",
              "    </tr>\n",
              "    <tr>\n",
              "      <th>2</th>\n",
              "      <td>7.7</td>\n",
              "      <td>0.002105</td>\n",
              "      <td>0.997370</td>\n",
              "      <td>1</td>\n",
              "      <td>2012</td>\n",
              "      <td>4</td>\n",
              "      <td>0.348714</td>\n",
              "    </tr>\n",
              "  </tbody>\n",
              "</table>\n",
              "</div>"
            ],
            "text/plain": [
              "   fare_amount  pickup_longitude  ...  month  dist_travelled_in_km\n",
              "0          4.5          0.003346  ...      6              0.126140\n",
              "1          5.7          0.002143  ...      8              0.171292\n",
              "2          7.7          0.002105  ...      4              0.348714\n",
              "\n",
              "[3 rows x 7 columns]"
            ]
          },
          "metadata": {
            "tags": []
          },
          "execution_count": 100
        }
      ]
    },
    {
      "cell_type": "markdown",
      "metadata": {
        "id": "Um6d4_fU0hBi",
        "colab_type": "text"
      },
      "source": [
        "# Building Prediction Model and Verifying it."
      ]
    },
    {
      "cell_type": "code",
      "metadata": {
        "colab_type": "code",
        "id": "GdhcjnouR8MQ",
        "outputId": "aad1adf2-cb7c-473e-e363-0578cf6cf06f",
        "colab": {
          "base_uri": "https://localhost:8080/",
          "height": 34
        }
      },
      "source": [
        "from sklearn.model_selection import train_test_split\n",
        "X = train.drop('fare_amount',axis=1).values\n",
        "y = train['fare_amount'].values\n",
        "X_train, X_test, y_train, y_test = train_test_split(X, y, test_size = 0.20, random_state=42)\n",
        "print(train.shape, X_train.shape, X_test.shape,y_train.shape,y_test.shape)\n"
      ],
      "execution_count": 101,
      "outputs": [
        {
          "output_type": "stream",
          "text": [
            "(14119, 7) (11295, 6) (2824, 6) (11295,) (2824,)\n"
          ],
          "name": "stdout"
        }
      ]
    },
    {
      "cell_type": "code",
      "metadata": {
        "colab_type": "code",
        "id": "mePcDTJPR8MV",
        "outputId": "33966592-a515-4d33-ee4d-c73efa1fd66b",
        "colab": {
          "base_uri": "https://localhost:8080/",
          "height": 52
        }
      },
      "source": [
        "# Building LinearRegression Model on training Data\n",
        "lm = LinearRegression()\n",
        "lm.fit(X_train,y_train)\n",
        "#lets print the intercept \n",
        "print(\"LM Intercept : \", lm.intercept_)\n",
        "predictions_LR =lm.predict(X_test)\n",
        "RMSE_LR = np.sqrt(metrics.mean_squared_error(y_test,predictions_LR))\n",
        "r2_LR = metrics.r2_score(y_test,predictions_LR)\n",
        "MAE_LR = metrics.mean_absolute_error(y_test,predictions_LR)\n",
        "def MAPE(y_true,y_pred):\n",
        "    mape = np.mean(np.abs((y_true-y_pred)/y_true))\n",
        "    return mape\n",
        "MAPE_LR = MAPE(y_test,predictions_LR)\n",
        "LR_Results = {'RMSE_LR':RMSE_LR,'r2_LR':r2_LR,'MAE_LR':MAE_LR,'MAPE_LR':MAPE_LR}\n",
        "print(LR_Results)"
      ],
      "execution_count": 102,
      "outputs": [
        {
          "output_type": "stream",
          "text": [
            "LM Intercept :  -625.2257285807453\n",
            "{'RMSE_LR': 2.429564818610812, 'r2_LR': 0.6215387011802352, 'MAE_LR': 1.6550367012742122, 'MAPE_LR': 0.20342380649270767}\n"
          ],
          "name": "stdout"
        }
      ]
    },
    {
      "cell_type": "code",
      "metadata": {
        "id": "QaGX8epUCVEi",
        "colab_type": "code",
        "outputId": "8f7d65bf-97b1-48d3-f833-2f45f2ea4556",
        "colab": {
          "base_uri": "https://localhost:8080/",
          "height": 34
        }
      },
      "source": [
        "# Building Decision Tree Model on training Data\n",
        "fit_DT  = DecisionTreeRegressor(max_depth = 4).fit(X_train, y_train)\n",
        "# Apply model on splitted test data\n",
        "predictions_DT = fit_DT.predict(X_test)\n",
        "MAE_DT = metrics.mean_absolute_error(y_test,predictions_DT)\n",
        "RMSE_DT = np.sqrt(metrics.mean_squared_error(y_test,predictions_DT))\n",
        "r2_DT = metrics.r2_score(y_test,predictions_DT)\n",
        "MAE_DT = metrics.mean_absolute_error(y_test,predictions_DT)\n",
        "MAPE_DT = MAPE(y_test,predictions_DT)\n",
        "DT_Results = {'RMSE_DT':RMSE_DT,'r2_DT':r2_DT,'MAE_DT':MAE_DT,'MAPE_DT':MAPE_DT}\n",
        "print(DT_Results)"
      ],
      "execution_count": 103,
      "outputs": [
        {
          "output_type": "stream",
          "text": [
            "{'RMSE_DT': 2.374107631730988, 'r2_DT': 0.6386190099472366, 'MAE_DT': 1.6578903583779832, 'MAPE_DT': 0.19872330720068793}\n"
          ],
          "name": "stdout"
        }
      ]
    },
    {
      "cell_type": "code",
      "metadata": {
        "id": "VdTM2vOiDzMg",
        "colab_type": "code",
        "outputId": "e6b859bc-9e6f-4b4d-d93d-eba3c458d49b",
        "colab": {
          "base_uri": "https://localhost:8080/",
          "height": 34
        }
      },
      "source": [
        "# Building Random Forest Model on training data\n",
        "RFModel = RandomForestRegressor(n_estimators = 200).fit(X_train, y_train)\n",
        "# Apply model on splitting test data\n",
        "predictions_RF = RFModel.predict(X_test)\n",
        "RMSE_RF = np.sqrt(metrics.mean_squared_error(y_test,predictions_RF))\n",
        "r2_RF = metrics.r2_score(y_test,predictions_RF)\n",
        "MAE_RF = metrics.mean_absolute_error(y_test,predictions_RF)\n",
        "MAPE_RF = MAPE(y_test,predictions_RF) \n",
        "RF_Results = {'RMSE_RF':RMSE_RF,'r2_RF':r2_RF,'MAE_RF':MAE_RF,'MAPE_RF':MAPE_RF}\n",
        "print(RF_Results)"
      ],
      "execution_count": 104,
      "outputs": [
        {
          "output_type": "stream",
          "text": [
            "{'RMSE_RF': 2.3728542040577607, 'r2_RF': 0.6390004967462052, 'MAE_RF': 1.6493791076487252, 'MAPE_RF': 0.19741851158803977}\n"
          ],
          "name": "stdout"
        }
      ]
    },
    {
      "cell_type": "code",
      "metadata": {
        "id": "LYy6PdtHG3-c",
        "colab_type": "code",
        "outputId": "8d849beb-a534-4322-99b2-6a61173dab35",
        "colab": {
          "base_uri": "https://localhost:8080/",
          "height": 86
        }
      },
      "source": [
        "## Error Metrics for All the above 3 models\n",
        "Error_Metrics = {'RMSE':[RMSE_LR,RMSE_DT,RMSE_RF],\n",
        "                  'r2':[r2_LR,r2_DT,r2_RF],\n",
        "                     'MAE':[MAE_LR,MAE_DT,MAE_RF],\n",
        "                   'MAPE':[MAPE_LR,MAPE_DT,MAPE_RF]}\n",
        "                 \n",
        "\n",
        "metrics_result =pd.DataFrame(Error_Metrics,index = ['Linear Regression', 'Decision Tree', 'Random Forest']) \n",
        "\n",
        "print(metrics_result)"
      ],
      "execution_count": 105,
      "outputs": [
        {
          "output_type": "stream",
          "text": [
            "                       RMSE        r2       MAE      MAPE\n",
            "Linear Regression  2.429565  0.621539  1.655037  0.203424\n",
            "Decision Tree      2.374108  0.638619  1.657890  0.198723\n",
            "Random Forest      2.372854  0.639000  1.649379  0.197419\n"
          ],
          "name": "stdout"
        }
      ]
    },
    {
      "cell_type": "code",
      "metadata": {
        "id": "Tih1czWStZcJ",
        "colab_type": "code",
        "colab": {}
      },
      "source": [
        "#***********************************************************************************************************************************************"
      ],
      "execution_count": 0,
      "outputs": []
    },
    {
      "cell_type": "markdown",
      "metadata": {
        "id": "Fd9Oyiyh0a_v",
        "colab_type": "text"
      },
      "source": [
        "# Manipulating Test Data"
      ]
    },
    {
      "cell_type": "code",
      "metadata": {
        "id": "T8uVS-NuXHa2",
        "colab_type": "code",
        "outputId": "ff2fc93e-eb06-4ba0-d9b9-b28833b53d47",
        "colab": {
          "base_uri": "https://localhost:8080/",
          "height": 300
        }
      },
      "source": [
        "# Now, we will manipulate test data\n",
        "test.describe()"
      ],
      "execution_count": 107,
      "outputs": [
        {
          "output_type": "execute_result",
          "data": {
            "text/html": [
              "<div>\n",
              "<style scoped>\n",
              "    .dataframe tbody tr th:only-of-type {\n",
              "        vertical-align: middle;\n",
              "    }\n",
              "\n",
              "    .dataframe tbody tr th {\n",
              "        vertical-align: top;\n",
              "    }\n",
              "\n",
              "    .dataframe thead th {\n",
              "        text-align: right;\n",
              "    }\n",
              "</style>\n",
              "<table border=\"1\" class=\"dataframe\">\n",
              "  <thead>\n",
              "    <tr style=\"text-align: right;\">\n",
              "      <th></th>\n",
              "      <th>pickup_longitude</th>\n",
              "      <th>pickup_latitude</th>\n",
              "      <th>dropoff_longitude</th>\n",
              "      <th>dropoff_latitude</th>\n",
              "      <th>passenger_count</th>\n",
              "    </tr>\n",
              "  </thead>\n",
              "  <tbody>\n",
              "    <tr>\n",
              "      <th>count</th>\n",
              "      <td>9914.000000</td>\n",
              "      <td>9914.000000</td>\n",
              "      <td>9914.000000</td>\n",
              "      <td>9914.000000</td>\n",
              "      <td>9914.000000</td>\n",
              "    </tr>\n",
              "    <tr>\n",
              "      <th>mean</th>\n",
              "      <td>-73.974722</td>\n",
              "      <td>40.751041</td>\n",
              "      <td>-73.973657</td>\n",
              "      <td>40.751743</td>\n",
              "      <td>1.671273</td>\n",
              "    </tr>\n",
              "    <tr>\n",
              "      <th>std</th>\n",
              "      <td>0.042774</td>\n",
              "      <td>0.033541</td>\n",
              "      <td>0.039072</td>\n",
              "      <td>0.035435</td>\n",
              "      <td>1.278747</td>\n",
              "    </tr>\n",
              "    <tr>\n",
              "      <th>min</th>\n",
              "      <td>-74.252193</td>\n",
              "      <td>40.573143</td>\n",
              "      <td>-74.263242</td>\n",
              "      <td>40.568973</td>\n",
              "      <td>1.000000</td>\n",
              "    </tr>\n",
              "    <tr>\n",
              "      <th>25%</th>\n",
              "      <td>-73.992501</td>\n",
              "      <td>40.736125</td>\n",
              "      <td>-73.991247</td>\n",
              "      <td>40.735254</td>\n",
              "      <td>1.000000</td>\n",
              "    </tr>\n",
              "    <tr>\n",
              "      <th>50%</th>\n",
              "      <td>-73.982326</td>\n",
              "      <td>40.753051</td>\n",
              "      <td>-73.980015</td>\n",
              "      <td>40.754065</td>\n",
              "      <td>1.000000</td>\n",
              "    </tr>\n",
              "    <tr>\n",
              "      <th>75%</th>\n",
              "      <td>-73.968013</td>\n",
              "      <td>40.767113</td>\n",
              "      <td>-73.964059</td>\n",
              "      <td>40.768757</td>\n",
              "      <td>2.000000</td>\n",
              "    </tr>\n",
              "    <tr>\n",
              "      <th>max</th>\n",
              "      <td>-72.986532</td>\n",
              "      <td>41.709555</td>\n",
              "      <td>-72.990963</td>\n",
              "      <td>41.696683</td>\n",
              "      <td>6.000000</td>\n",
              "    </tr>\n",
              "  </tbody>\n",
              "</table>\n",
              "</div>"
            ],
            "text/plain": [
              "       pickup_longitude  pickup_latitude  ...  dropoff_latitude  passenger_count\n",
              "count       9914.000000      9914.000000  ...       9914.000000      9914.000000\n",
              "mean         -73.974722        40.751041  ...         40.751743         1.671273\n",
              "std            0.042774         0.033541  ...          0.035435         1.278747\n",
              "min          -74.252193        40.573143  ...         40.568973         1.000000\n",
              "25%          -73.992501        40.736125  ...         40.735254         1.000000\n",
              "50%          -73.982326        40.753051  ...         40.754065         1.000000\n",
              "75%          -73.968013        40.767113  ...         40.768757         2.000000\n",
              "max          -72.986532        41.709555  ...         41.696683         6.000000\n",
              "\n",
              "[8 rows x 5 columns]"
            ]
          },
          "metadata": {
            "tags": []
          },
          "execution_count": 107
        }
      ]
    },
    {
      "cell_type": "code",
      "metadata": {
        "id": "bi40rRwDah2L",
        "colab_type": "code",
        "outputId": "1027c4fc-4394-4682-e9bb-14554a3968e7",
        "colab": {
          "base_uri": "https://localhost:8080/",
          "height": 206
        }
      },
      "source": [
        "test.head()"
      ],
      "execution_count": 108,
      "outputs": [
        {
          "output_type": "execute_result",
          "data": {
            "text/html": [
              "<div>\n",
              "<style scoped>\n",
              "    .dataframe tbody tr th:only-of-type {\n",
              "        vertical-align: middle;\n",
              "    }\n",
              "\n",
              "    .dataframe tbody tr th {\n",
              "        vertical-align: top;\n",
              "    }\n",
              "\n",
              "    .dataframe thead th {\n",
              "        text-align: right;\n",
              "    }\n",
              "</style>\n",
              "<table border=\"1\" class=\"dataframe\">\n",
              "  <thead>\n",
              "    <tr style=\"text-align: right;\">\n",
              "      <th></th>\n",
              "      <th>pickup_datetime</th>\n",
              "      <th>pickup_longitude</th>\n",
              "      <th>pickup_latitude</th>\n",
              "      <th>dropoff_longitude</th>\n",
              "      <th>dropoff_latitude</th>\n",
              "      <th>passenger_count</th>\n",
              "    </tr>\n",
              "  </thead>\n",
              "  <tbody>\n",
              "    <tr>\n",
              "      <th>0</th>\n",
              "      <td>2015-01-27 13:08:24 UTC</td>\n",
              "      <td>-73.973320</td>\n",
              "      <td>40.763805</td>\n",
              "      <td>-73.981430</td>\n",
              "      <td>40.743835</td>\n",
              "      <td>1</td>\n",
              "    </tr>\n",
              "    <tr>\n",
              "      <th>1</th>\n",
              "      <td>2015-01-27 13:08:24 UTC</td>\n",
              "      <td>-73.986862</td>\n",
              "      <td>40.719383</td>\n",
              "      <td>-73.998886</td>\n",
              "      <td>40.739201</td>\n",
              "      <td>1</td>\n",
              "    </tr>\n",
              "    <tr>\n",
              "      <th>2</th>\n",
              "      <td>2011-10-08 11:53:44 UTC</td>\n",
              "      <td>-73.982524</td>\n",
              "      <td>40.751260</td>\n",
              "      <td>-73.979654</td>\n",
              "      <td>40.746139</td>\n",
              "      <td>1</td>\n",
              "    </tr>\n",
              "    <tr>\n",
              "      <th>3</th>\n",
              "      <td>2012-12-01 21:12:12 UTC</td>\n",
              "      <td>-73.981160</td>\n",
              "      <td>40.767807</td>\n",
              "      <td>-73.990448</td>\n",
              "      <td>40.751635</td>\n",
              "      <td>1</td>\n",
              "    </tr>\n",
              "    <tr>\n",
              "      <th>4</th>\n",
              "      <td>2012-12-01 21:12:12 UTC</td>\n",
              "      <td>-73.966046</td>\n",
              "      <td>40.789775</td>\n",
              "      <td>-73.988565</td>\n",
              "      <td>40.744427</td>\n",
              "      <td>1</td>\n",
              "    </tr>\n",
              "  </tbody>\n",
              "</table>\n",
              "</div>"
            ],
            "text/plain": [
              "           pickup_datetime  pickup_longitude  ...  dropoff_latitude  passenger_count\n",
              "0  2015-01-27 13:08:24 UTC        -73.973320  ...         40.743835                1\n",
              "1  2015-01-27 13:08:24 UTC        -73.986862  ...         40.739201                1\n",
              "2  2011-10-08 11:53:44 UTC        -73.982524  ...         40.746139                1\n",
              "3  2012-12-01 21:12:12 UTC        -73.981160  ...         40.751635                1\n",
              "4  2012-12-01 21:12:12 UTC        -73.966046  ...         40.744427                1\n",
              "\n",
              "[5 rows x 6 columns]"
            ]
          },
          "metadata": {
            "tags": []
          },
          "execution_count": 108
        }
      ]
    },
    {
      "cell_type": "code",
      "metadata": {
        "id": "VHR9WMzMfpvj",
        "colab_type": "code",
        "colab": {}
      },
      "source": [
        "#Making copy of test file.\n",
        "df_test = test.copy()"
      ],
      "execution_count": 0,
      "outputs": []
    },
    {
      "cell_type": "code",
      "metadata": {
        "id": "k5yfFHVMbA2o",
        "colab_type": "code",
        "colab": {}
      },
      "source": [
        "df_test[\"pickup_datetime\"] = pd.to_datetime(df_test['pickup_datetime'], errors='coerce')\n"
      ],
      "execution_count": 0,
      "outputs": []
    },
    {
      "cell_type": "code",
      "metadata": {
        "id": "g86g4tDYvqUf",
        "colab_type": "code",
        "outputId": "d196c5d8-2029-4a0b-be58-335179db9e4a",
        "colab": {
          "base_uri": "https://localhost:8080/",
          "height": 34
        }
      },
      "source": [
        "df_test[\"passenger_count\"].unique()"
      ],
      "execution_count": 111,
      "outputs": [
        {
          "output_type": "execute_result",
          "data": {
            "text/plain": [
              "array([1, 2, 3, 4, 5, 6])"
            ]
          },
          "metadata": {
            "tags": []
          },
          "execution_count": 111
        }
      ]
    },
    {
      "cell_type": "code",
      "metadata": {
        "colab_type": "code",
        "id": "IHj2yhLhvq1t",
        "colab": {}
      },
      "source": [
        "# Now we'll split the pickup_date time variable into year, month, date.\n",
        "\n",
        "df_test['year'] =df_test['pickup_datetime'].dt.year\n",
        "df_test['month'] = df_test['pickup_datetime'].dt.month\n",
        "df_test['pickup_date'] = df_test['pickup_datetime'].dt.day\n",
        "df_test['pickup_hour'] = df_test['pickup_datetime'].dt.hour"
      ],
      "execution_count": 0,
      "outputs": []
    },
    {
      "cell_type": "markdown",
      "metadata": {
        "id": "T_bRLyp6x5Ad",
        "colab_type": "text"
      },
      "source": [
        ""
      ]
    },
    {
      "cell_type": "code",
      "metadata": {
        "colab_type": "code",
        "id": "SB1BU2a-vq47",
        "colab": {}
      },
      "source": [
        "#Manipulating as train data\n",
        "df_test[\"pickup_date\"] = pd.cut(x=df_test['pickup_date'], bins=[0,28,32],labels=[2,1])\n",
        "                      \n",
        "# pickup_date was converted into date_session. Date 29-31, was converted into category \"1\"\n",
        "# Date 1-28 was converted into category \"2\""
      ],
      "execution_count": 0,
      "outputs": []
    },
    {
      "cell_type": "code",
      "metadata": {
        "colab_type": "code",
        "id": "DqBvuSy7vq5i",
        "colab": {}
      },
      "source": [
        "# In the above bar graph, we clearly see that fare_amount is less between 12:00 am to 6:00 am. Fare_amount is moderate between 7:00am to 5:00 pm and fare_amount is high between 6:00pm to 11:00 pm\n",
        "\n",
        "df_test['pickup_session'] = pd.cut(x=df_test['pickup_hour'], bins=[-1,6,17,24],labels=[\"1\",\"2\",\"3\"])\n",
        "                      \n",
        "# pickup_hour was converted into hour_session. From 12-6 am, fare_amount is less so it was converted into category \"1\"\n",
        "# From 7 am to 5 pm , fare_amount is moderate so it was converted into category \"2\"\n",
        "# From 6 pm to 12:00 am, fare_amount is high so it was converted into category \"3"
      ],
      "execution_count": 0,
      "outputs": []
    },
    {
      "cell_type": "code",
      "metadata": {
        "colab_type": "code",
        "id": "Q8gs_kQAvq5x",
        "colab": {}
      },
      "source": [
        "df_test[\"pickup_longitude\"] = df_test[\"pickup_longitude\"].astype(float)\n",
        "df_test[\"pickup_latitude\"] = df_test[\"pickup_latitude\"].astype(float)\n",
        "df_test[\"dropoff_longitude\"] = df_test[\"dropoff_longitude\"].astype(float)\n",
        "df_test[\"dropoff_latitude\"] = df_test[\"dropoff_latitude\"].astype(float)\n"
      ],
      "execution_count": 0,
      "outputs": []
    },
    {
      "cell_type": "code",
      "metadata": {
        "colab_type": "code",
        "id": "orHEiACZvq5_",
        "colab": {}
      },
      "source": [
        "df_test['dist_travelled_in_km'] = df_test.apply(lambda x: haversine(x['pickup_longitude'], x['pickup_latitude'], x['dropoff_longitude'], x['dropoff_latitude']), axis=1)"
      ],
      "execution_count": 0,
      "outputs": []
    },
    {
      "cell_type": "code",
      "metadata": {
        "id": "ZBYhtBHyzqFK",
        "colab_type": "code",
        "outputId": "7683a1fe-911d-4644-ed25-5320568e0bb9",
        "colab": {
          "base_uri": "https://localhost:8080/",
          "height": 34
        }
      },
      "source": [
        "df_test.shape"
      ],
      "execution_count": 117,
      "outputs": [
        {
          "output_type": "execute_result",
          "data": {
            "text/plain": [
              "(9914, 12)"
            ]
          },
          "metadata": {
            "tags": []
          },
          "execution_count": 117
        }
      ]
    },
    {
      "cell_type": "code",
      "metadata": {
        "colab_type": "code",
        "id": "dKZ3US_Ivq6o",
        "colab": {}
      },
      "source": [
        "df_test = df_test.filter([\"pickup_longitude\", \t\"pickup_latitude\", \"dropoff_longitude\", \"dropoff_latitude\", \"passenger_count\", \"year\" ,\"month\" ,\"pickup_days\", \"picku_session\",\"dist_travelled_in_km\"], axis = 1)"
      ],
      "execution_count": 0,
      "outputs": []
    },
    {
      "cell_type": "code",
      "metadata": {
        "colab_type": "code",
        "id": "Hp7Osx2evq64",
        "outputId": "02fa42bd-ad01-4b99-9534-838a5ff31456",
        "colab": {
          "base_uri": "https://localhost:8080/",
          "height": 173
        }
      },
      "source": [
        "(df_test==0).sum()"
      ],
      "execution_count": 119,
      "outputs": [
        {
          "output_type": "execute_result",
          "data": {
            "text/plain": [
              "pickup_longitude         0\n",
              "pickup_latitude          0\n",
              "dropoff_longitude        0\n",
              "dropoff_latitude         0\n",
              "passenger_count          0\n",
              "year                     0\n",
              "month                    0\n",
              "dist_travelled_in_km    85\n",
              "dtype: int64"
            ]
          },
          "metadata": {
            "tags": []
          },
          "execution_count": 119
        }
      ]
    },
    {
      "cell_type": "code",
      "metadata": {
        "id": "FgKzWkI0USYd",
        "colab_type": "code",
        "colab": {}
      },
      "source": [
        "df_test = df_test.filter([\"pickup_longitude\",\"pickup_latitude\", \"passenger_count\",\t\"year\", \"month\", \"dist_travelled_in_km\"])\n",
        "#df_test = df_test.filter([\"passenger_count\",\t\"year\", \"month\", \"dist_travelled_in_km\"])"
      ],
      "execution_count": 0,
      "outputs": []
    },
    {
      "cell_type": "code",
      "metadata": {
        "id": "00dTqLuSU_AO",
        "colab_type": "code",
        "outputId": "f190fbbf-5b95-4e99-db2a-f50b26bc023f",
        "colab": {
          "base_uri": "https://localhost:8080/",
          "height": 206
        }
      },
      "source": [
        "df_test.head()"
      ],
      "execution_count": 121,
      "outputs": [
        {
          "output_type": "execute_result",
          "data": {
            "text/html": [
              "<div>\n",
              "<style scoped>\n",
              "    .dataframe tbody tr th:only-of-type {\n",
              "        vertical-align: middle;\n",
              "    }\n",
              "\n",
              "    .dataframe tbody tr th {\n",
              "        vertical-align: top;\n",
              "    }\n",
              "\n",
              "    .dataframe thead th {\n",
              "        text-align: right;\n",
              "    }\n",
              "</style>\n",
              "<table border=\"1\" class=\"dataframe\">\n",
              "  <thead>\n",
              "    <tr style=\"text-align: right;\">\n",
              "      <th></th>\n",
              "      <th>pickup_longitude</th>\n",
              "      <th>pickup_latitude</th>\n",
              "      <th>passenger_count</th>\n",
              "      <th>year</th>\n",
              "      <th>month</th>\n",
              "      <th>dist_travelled_in_km</th>\n",
              "    </tr>\n",
              "  </thead>\n",
              "  <tbody>\n",
              "    <tr>\n",
              "      <th>0</th>\n",
              "      <td>-73.973320</td>\n",
              "      <td>40.763805</td>\n",
              "      <td>1</td>\n",
              "      <td>2015</td>\n",
              "      <td>1</td>\n",
              "      <td>2.323259</td>\n",
              "    </tr>\n",
              "    <tr>\n",
              "      <th>1</th>\n",
              "      <td>-73.986862</td>\n",
              "      <td>40.719383</td>\n",
              "      <td>1</td>\n",
              "      <td>2015</td>\n",
              "      <td>1</td>\n",
              "      <td>2.425353</td>\n",
              "    </tr>\n",
              "    <tr>\n",
              "      <th>2</th>\n",
              "      <td>-73.982524</td>\n",
              "      <td>40.751260</td>\n",
              "      <td>1</td>\n",
              "      <td>2011</td>\n",
              "      <td>10</td>\n",
              "      <td>0.618628</td>\n",
              "    </tr>\n",
              "    <tr>\n",
              "      <th>3</th>\n",
              "      <td>-73.981160</td>\n",
              "      <td>40.767807</td>\n",
              "      <td>1</td>\n",
              "      <td>2012</td>\n",
              "      <td>12</td>\n",
              "      <td>1.961033</td>\n",
              "    </tr>\n",
              "    <tr>\n",
              "      <th>4</th>\n",
              "      <td>-73.966046</td>\n",
              "      <td>40.789775</td>\n",
              "      <td>1</td>\n",
              "      <td>2012</td>\n",
              "      <td>12</td>\n",
              "      <td>5.387301</td>\n",
              "    </tr>\n",
              "  </tbody>\n",
              "</table>\n",
              "</div>"
            ],
            "text/plain": [
              "   pickup_longitude  pickup_latitude  ...  month  dist_travelled_in_km\n",
              "0        -73.973320        40.763805  ...      1              2.323259\n",
              "1        -73.986862        40.719383  ...      1              2.425353\n",
              "2        -73.982524        40.751260  ...     10              0.618628\n",
              "3        -73.981160        40.767807  ...     12              1.961033\n",
              "4        -73.966046        40.789775  ...     12              5.387301\n",
              "\n",
              "[5 rows x 6 columns]"
            ]
          },
          "metadata": {
            "tags": []
          },
          "execution_count": 121
        }
      ]
    },
    {
      "cell_type": "code",
      "metadata": {
        "id": "yYMjzwfx4hSM",
        "colab_type": "code",
        "outputId": "866b10bc-4af2-424e-cc2b-a982a7e87e2f",
        "colab": {
          "base_uri": "https://localhost:8080/",
          "height": 69
        }
      },
      "source": [
        "#Normalisation\n",
        "c_names = [\"dist_travelled_in_km\", \"pickup_longitude\", \"pickup_latitude\"]\n",
        "for i in c_names:\n",
        "  print (i)\n",
        "  df_test[i]= (df_test[i] - df_test[i].min())/(df_test[i].max() - df_test[i].min())"
      ],
      "execution_count": 122,
      "outputs": [
        {
          "output_type": "stream",
          "text": [
            "dist_travelled_in_km\n",
            "pickup_longitude\n",
            "pickup_latitude\n"
          ],
          "name": "stdout"
        }
      ]
    },
    {
      "cell_type": "markdown",
      "metadata": {
        "id": "bToK0CRG7am6",
        "colab_type": "text"
      },
      "source": [
        "# Predicting on Test Data"
      ]
    },
    {
      "cell_type": "markdown",
      "metadata": {
        "id": "gL56DISk89os",
        "colab_type": "text"
      },
      "source": [
        "**Training the model on X, y (train.csv dataset full) and then predicting on df_test(copy of test.csv)**\n",
        "**We are using Random forest algoritham because it has better results than other**"
      ]
    },
    {
      "cell_type": "code",
      "metadata": {
        "id": "ySmYsLIdWnsA",
        "colab_type": "code",
        "colab": {}
      },
      "source": [
        "RFModel = RandomForestRegressor(n_estimators = 200).fit(X, y)\n",
        "fare_amount_test = RFModel.predict(df_test)\n",
        "df_test[\"fare_amount\"] = fare_amount_test"
      ],
      "execution_count": 0,
      "outputs": []
    },
    {
      "cell_type": "code",
      "metadata": {
        "id": "XHx0JyPFavzq",
        "colab_type": "code",
        "outputId": "dee99e04-f362-4a5d-fdf1-6c2be8c64307",
        "colab": {
          "base_uri": "https://localhost:8080/",
          "height": 206
        }
      },
      "source": [
        "df_test.head()"
      ],
      "execution_count": 124,
      "outputs": [
        {
          "output_type": "execute_result",
          "data": {
            "text/html": [
              "<div>\n",
              "<style scoped>\n",
              "    .dataframe tbody tr th:only-of-type {\n",
              "        vertical-align: middle;\n",
              "    }\n",
              "\n",
              "    .dataframe tbody tr th {\n",
              "        vertical-align: top;\n",
              "    }\n",
              "\n",
              "    .dataframe thead th {\n",
              "        text-align: right;\n",
              "    }\n",
              "</style>\n",
              "<table border=\"1\" class=\"dataframe\">\n",
              "  <thead>\n",
              "    <tr style=\"text-align: right;\">\n",
              "      <th></th>\n",
              "      <th>pickup_longitude</th>\n",
              "      <th>pickup_latitude</th>\n",
              "      <th>passenger_count</th>\n",
              "      <th>year</th>\n",
              "      <th>month</th>\n",
              "      <th>dist_travelled_in_km</th>\n",
              "      <th>fare_amount</th>\n",
              "    </tr>\n",
              "  </thead>\n",
              "  <tbody>\n",
              "    <tr>\n",
              "      <th>0</th>\n",
              "      <td>0.220338</td>\n",
              "      <td>0.167776</td>\n",
              "      <td>1</td>\n",
              "      <td>2015</td>\n",
              "      <td>1</td>\n",
              "      <td>0.023234</td>\n",
              "      <td>9.06440</td>\n",
              "    </tr>\n",
              "    <tr>\n",
              "      <th>1</th>\n",
              "      <td>0.209638</td>\n",
              "      <td>0.128686</td>\n",
              "      <td>1</td>\n",
              "      <td>2015</td>\n",
              "      <td>1</td>\n",
              "      <td>0.024254</td>\n",
              "      <td>9.16455</td>\n",
              "    </tr>\n",
              "    <tr>\n",
              "      <th>2</th>\n",
              "      <td>0.213066</td>\n",
              "      <td>0.156736</td>\n",
              "      <td>1</td>\n",
              "      <td>2011</td>\n",
              "      <td>10</td>\n",
              "      <td>0.006187</td>\n",
              "      <td>6.15450</td>\n",
              "    </tr>\n",
              "    <tr>\n",
              "      <th>3</th>\n",
              "      <td>0.214143</td>\n",
              "      <td>0.171297</td>\n",
              "      <td>1</td>\n",
              "      <td>2012</td>\n",
              "      <td>12</td>\n",
              "      <td>0.019611</td>\n",
              "      <td>8.35655</td>\n",
              "    </tr>\n",
              "    <tr>\n",
              "      <th>4</th>\n",
              "      <td>0.226085</td>\n",
              "      <td>0.190628</td>\n",
              "      <td>1</td>\n",
              "      <td>2012</td>\n",
              "      <td>12</td>\n",
              "      <td>0.053875</td>\n",
              "      <td>8.33600</td>\n",
              "    </tr>\n",
              "  </tbody>\n",
              "</table>\n",
              "</div>"
            ],
            "text/plain": [
              "   pickup_longitude  pickup_latitude  ...  dist_travelled_in_km  fare_amount\n",
              "0          0.220338         0.167776  ...              0.023234      9.06440\n",
              "1          0.209638         0.128686  ...              0.024254      9.16455\n",
              "2          0.213066         0.156736  ...              0.006187      6.15450\n",
              "3          0.214143         0.171297  ...              0.019611      8.35655\n",
              "4          0.226085         0.190628  ...              0.053875      8.33600\n",
              "\n",
              "[5 rows x 7 columns]"
            ]
          },
          "metadata": {
            "tags": []
          },
          "execution_count": 124
        }
      ]
    },
    {
      "cell_type": "code",
      "metadata": {
        "id": "9OXrBRssdmN7",
        "colab_type": "code",
        "outputId": "e95026b9-b15c-4631-8259-516a9c2a43e4",
        "colab": {
          "base_uri": "https://localhost:8080/",
          "height": 173
        }
      },
      "source": [
        "df_test[\"fare_amount\"].describe()"
      ],
      "execution_count": 125,
      "outputs": [
        {
          "output_type": "execute_result",
          "data": {
            "text/plain": [
              "count    9914.000000\n",
              "mean        7.919921\n",
              "std         1.064688\n",
              "min         4.786500\n",
              "25%         7.361325\n",
              "50%         7.919650\n",
              "75%         8.577700\n",
              "max        14.623000\n",
              "Name: fare_amount, dtype: float64"
            ]
          },
          "metadata": {
            "tags": []
          },
          "execution_count": 125
        }
      ]
    },
    {
      "cell_type": "markdown",
      "metadata": {
        "id": "KnOcDrK29dcm",
        "colab_type": "text"
      },
      "source": [
        "**Concatenating the result with original test dataset**"
      ]
    },
    {
      "cell_type": "code",
      "metadata": {
        "id": "5DaILTuLfHYd",
        "colab_type": "code",
        "colab": {}
      },
      "source": [
        "test_predicted = pd.concat([test, df_test[\"fare_amount\"]], axis=1)"
      ],
      "execution_count": 0,
      "outputs": []
    },
    {
      "cell_type": "code",
      "metadata": {
        "id": "h8QdYhPUfZTz",
        "colab_type": "code",
        "outputId": "7bc34457-0009-4f0d-e92d-c82eb5a4f359",
        "colab": {
          "base_uri": "https://localhost:8080/",
          "height": 34
        }
      },
      "source": [
        "test_predicted.shape"
      ],
      "execution_count": 127,
      "outputs": [
        {
          "output_type": "execute_result",
          "data": {
            "text/plain": [
              "(9914, 7)"
            ]
          },
          "metadata": {
            "tags": []
          },
          "execution_count": 127
        }
      ]
    },
    {
      "cell_type": "code",
      "metadata": {
        "id": "8GxyrUjHhcXg",
        "colab_type": "code",
        "outputId": "05f0fd9e-8fd1-4d48-d5a9-f2f70d8fcc6a",
        "colab": {
          "base_uri": "https://localhost:8080/",
          "height": 173
        }
      },
      "source": [
        "test_predicted[\"fare_amount\"].describe()"
      ],
      "execution_count": 128,
      "outputs": [
        {
          "output_type": "execute_result",
          "data": {
            "text/plain": [
              "count    9914.000000\n",
              "mean        7.919921\n",
              "std         1.064688\n",
              "min         4.786500\n",
              "25%         7.361325\n",
              "50%         7.919650\n",
              "75%         8.577700\n",
              "max        14.623000\n",
              "Name: fare_amount, dtype: float64"
            ]
          },
          "metadata": {
            "tags": []
          },
          "execution_count": 128
        }
      ]
    },
    {
      "cell_type": "code",
      "metadata": {
        "id": "keOuoNKzh4yC",
        "colab_type": "code",
        "outputId": "8e1692a0-e3fc-420c-a4ad-98c1226d39c2",
        "colab": {
          "base_uri": "https://localhost:8080/",
          "height": 206
        }
      },
      "source": [
        "test_predicted.head()"
      ],
      "execution_count": 129,
      "outputs": [
        {
          "output_type": "execute_result",
          "data": {
            "text/html": [
              "<div>\n",
              "<style scoped>\n",
              "    .dataframe tbody tr th:only-of-type {\n",
              "        vertical-align: middle;\n",
              "    }\n",
              "\n",
              "    .dataframe tbody tr th {\n",
              "        vertical-align: top;\n",
              "    }\n",
              "\n",
              "    .dataframe thead th {\n",
              "        text-align: right;\n",
              "    }\n",
              "</style>\n",
              "<table border=\"1\" class=\"dataframe\">\n",
              "  <thead>\n",
              "    <tr style=\"text-align: right;\">\n",
              "      <th></th>\n",
              "      <th>pickup_datetime</th>\n",
              "      <th>pickup_longitude</th>\n",
              "      <th>pickup_latitude</th>\n",
              "      <th>dropoff_longitude</th>\n",
              "      <th>dropoff_latitude</th>\n",
              "      <th>passenger_count</th>\n",
              "      <th>fare_amount</th>\n",
              "    </tr>\n",
              "  </thead>\n",
              "  <tbody>\n",
              "    <tr>\n",
              "      <th>0</th>\n",
              "      <td>2015-01-27 13:08:24 UTC</td>\n",
              "      <td>-73.973320</td>\n",
              "      <td>40.763805</td>\n",
              "      <td>-73.981430</td>\n",
              "      <td>40.743835</td>\n",
              "      <td>1</td>\n",
              "      <td>9.06440</td>\n",
              "    </tr>\n",
              "    <tr>\n",
              "      <th>1</th>\n",
              "      <td>2015-01-27 13:08:24 UTC</td>\n",
              "      <td>-73.986862</td>\n",
              "      <td>40.719383</td>\n",
              "      <td>-73.998886</td>\n",
              "      <td>40.739201</td>\n",
              "      <td>1</td>\n",
              "      <td>9.16455</td>\n",
              "    </tr>\n",
              "    <tr>\n",
              "      <th>2</th>\n",
              "      <td>2011-10-08 11:53:44 UTC</td>\n",
              "      <td>-73.982524</td>\n",
              "      <td>40.751260</td>\n",
              "      <td>-73.979654</td>\n",
              "      <td>40.746139</td>\n",
              "      <td>1</td>\n",
              "      <td>6.15450</td>\n",
              "    </tr>\n",
              "    <tr>\n",
              "      <th>3</th>\n",
              "      <td>2012-12-01 21:12:12 UTC</td>\n",
              "      <td>-73.981160</td>\n",
              "      <td>40.767807</td>\n",
              "      <td>-73.990448</td>\n",
              "      <td>40.751635</td>\n",
              "      <td>1</td>\n",
              "      <td>8.35655</td>\n",
              "    </tr>\n",
              "    <tr>\n",
              "      <th>4</th>\n",
              "      <td>2012-12-01 21:12:12 UTC</td>\n",
              "      <td>-73.966046</td>\n",
              "      <td>40.789775</td>\n",
              "      <td>-73.988565</td>\n",
              "      <td>40.744427</td>\n",
              "      <td>1</td>\n",
              "      <td>8.33600</td>\n",
              "    </tr>\n",
              "  </tbody>\n",
              "</table>\n",
              "</div>"
            ],
            "text/plain": [
              "           pickup_datetime  pickup_longitude  ...  passenger_count  fare_amount\n",
              "0  2015-01-27 13:08:24 UTC        -73.973320  ...                1      9.06440\n",
              "1  2015-01-27 13:08:24 UTC        -73.986862  ...                1      9.16455\n",
              "2  2011-10-08 11:53:44 UTC        -73.982524  ...                1      6.15450\n",
              "3  2012-12-01 21:12:12 UTC        -73.981160  ...                1      8.35655\n",
              "4  2012-12-01 21:12:12 UTC        -73.966046  ...                1      8.33600\n",
              "\n",
              "[5 rows x 7 columns]"
            ]
          },
          "metadata": {
            "tags": []
          },
          "execution_count": 129
        }
      ]
    },
    {
      "cell_type": "code",
      "metadata": {
        "id": "uAL75AOgI_PB",
        "colab_type": "code",
        "colab": {}
      },
      "source": [
        "#save output results \n",
        "test_predicted.to_csv(\"Cab_fare_predicted.csv\", index = False)"
      ],
      "execution_count": 0,
      "outputs": []
    }
  ]
}